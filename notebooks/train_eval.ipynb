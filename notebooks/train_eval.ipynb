{
 "cells": [
  {
   "cell_type": "code",
   "id": "initial_id",
   "metadata": {
    "collapsed": true,
    "ExecuteTime": {
     "end_time": "2025-06-20T10:24:23.831847Z",
     "start_time": "2025-06-20T10:24:23.449281Z"
    }
   },
   "source": [
    "import os\n",
    "import time\n",
    "import numpy as np\n",
    "import pandas as pd\n",
    "from sklearn.pipeline import Pipeline\n",
    "from sklearn.model_selection import GridSearchCV\n",
    "from sklearn.linear_model import LogisticRegression\n",
    "from sklearn.ensemble import RandomForestClassifier\n",
    "from sklearn.neural_network import MLPClassifier\n",
    "from sklearn.svm import SVC\n",
    "from xgboost import XGBClassifier\n",
    "from sklearn.metrics import classification_report, accuracy_score, confusion_matrix, f1_score\n",
    "from sklearn.preprocessing import StandardScaler, MinMaxScaler\n",
    "from tqdm.notebook import tqdm"
   ],
   "outputs": [],
   "execution_count": 1
  },
  {
   "cell_type": "code",
   "source": [
    "import contextlib\n",
    "import joblib\n",
    "\n",
    "@contextlib.contextmanager\n",
    "def tqdm_joblib(tqdm_object):\n",
    "    \"\"\"\n",
    "    Context manager to display a tqdm progress bar for joblib parallel jobs.\n",
    "    \"\"\"\n",
    "    class TqdmBatchCompletionCallback(joblib.parallel.BatchCompletionCallBack):\n",
    "        def __init__(self, *args, **kwargs):\n",
    "            super().__init__(*args, **kwargs)\n",
    "\n",
    "        def __call__(self, *args, **kwargs):\n",
    "            tqdm_object.update(n=self.batch_size)\n",
    "            return super().__call__(*args, **kwargs)\n",
    "\n",
    "    old_batch_callback = joblib.parallel.BatchCompletionCallBack\n",
    "    joblib.parallel.BatchCompletionCallBack = TqdmBatchCompletionCallback\n",
    "    try:\n",
    "        yield\n",
    "    finally:\n",
    "        joblib.parallel.BatchCompletionCallBack = old_batch_callback\n",
    "        tqdm_object.close()"
   ],
   "metadata": {
    "collapsed": false,
    "ExecuteTime": {
     "end_time": "2025-06-20T10:24:23.837148Z",
     "start_time": "2025-06-20T10:24:23.834626Z"
    }
   },
   "id": "c5a42b04deab501",
   "outputs": [],
   "execution_count": 2
  },
  {
   "cell_type": "markdown",
   "source": [
    "### 1. Load feature vectors"
   ],
   "metadata": {
    "collapsed": false
   },
   "id": "bbaeea3eeee976c3"
  },
  {
   "cell_type": "code",
   "source": [
    "print(\"Loading data from pickle files...\")\n",
    "\n",
    "# Load the datasets from the Pickle files\n",
    "train_df = pd.read_pickle('../data/extracted/train.pkl')\n",
    "print(f\"Loaded 'train.pkl' with {len(train_df)} rows.\")\n",
    "\n",
    "test_df = pd.read_pickle('../data/extracted/test.pkl')\n",
    "print(f\"Loaded 'test.pkl' with {len(test_df)} rows.\")\n",
    "\n",
    "# --- Verify one of the loaded DataFrames ---\n",
    "print(\"\\nVerifying the first 5 rows of the loaded training data:\")\n",
    "train_df.head()"
   ],
   "metadata": {
    "collapsed": false,
    "ExecuteTime": {
     "end_time": "2025-06-20T10:24:24.524204Z",
     "start_time": "2025-06-20T10:24:23.881734Z"
    }
   },
   "id": "d090cb84cf83fd57",
   "outputs": [
    {
     "name": "stdout",
     "output_type": "stream",
     "text": [
      "Loading data from pickle files...\n",
      "Loaded 'train.pkl' with 4152 rows.\n",
      "Loaded 'test.pkl' with 1039 rows.\n",
      "\n",
      "Verifying the first 5 rows of the loaded training data:\n"
     ]
    },
    {
     "data": {
      "text/plain": [
       "        user_id  occupation_code  \\\n",
       "5127  265383481                8   \n",
       "3607   22364420                5   \n",
       "1689   16797684                2   \n",
       "4942   14871013                3   \n",
       "4317   75687820                6   \n",
       "\n",
       "                                              category  \\\n",
       "5127             Process, Plant and Machine Operatives   \n",
       "3607                        Skilled Trades Occupations   \n",
       "1689                          Professional Occupations   \n",
       "4942  Associate Professional and Technical Occupations   \n",
       "4317     Caring, Leisure and Other Service Occupations   \n",
       "\n",
       "                                       aggregated_words  \\\n",
       "5127  [abandoned, abilities, able, able, able, able,...   \n",
       "3607  [abandoned, abiding, ability, ability, able, a...   \n",
       "1689  [ability, ability, able, able, absolutely, acc...   \n",
       "4942  [abandon, abilities, ability, ability, able, a...   \n",
       "4317  [ability, ability, ability, absolutely, abuse,...   \n",
       "\n",
       "                                                     fv  \n",
       "5127  [0.12392794012115328, 0.19688847030447434, 0.1...  \n",
       "3607  [0.07217657331213086, 0.1431269316529759, 0.06...  \n",
       "1689  [0.3008244936371708, 0.16110806083995646, -0.2...  \n",
       "4942  [0.04091567286601898, 0.14582023397535762, -0....  \n",
       "4317  [-0.024895935193045577, 0.12986074412173476, -...  "
      ],
      "text/html": [
       "<div>\n",
       "<style scoped>\n",
       "    .dataframe tbody tr th:only-of-type {\n",
       "        vertical-align: middle;\n",
       "    }\n",
       "\n",
       "    .dataframe tbody tr th {\n",
       "        vertical-align: top;\n",
       "    }\n",
       "\n",
       "    .dataframe thead th {\n",
       "        text-align: right;\n",
       "    }\n",
       "</style>\n",
       "<table border=\"1\" class=\"dataframe\">\n",
       "  <thead>\n",
       "    <tr style=\"text-align: right;\">\n",
       "      <th></th>\n",
       "      <th>user_id</th>\n",
       "      <th>occupation_code</th>\n",
       "      <th>category</th>\n",
       "      <th>aggregated_words</th>\n",
       "      <th>fv</th>\n",
       "    </tr>\n",
       "  </thead>\n",
       "  <tbody>\n",
       "    <tr>\n",
       "      <th>5127</th>\n",
       "      <td>265383481</td>\n",
       "      <td>8</td>\n",
       "      <td>Process, Plant and Machine Operatives</td>\n",
       "      <td>[abandoned, abilities, able, able, able, able,...</td>\n",
       "      <td>[0.12392794012115328, 0.19688847030447434, 0.1...</td>\n",
       "    </tr>\n",
       "    <tr>\n",
       "      <th>3607</th>\n",
       "      <td>22364420</td>\n",
       "      <td>5</td>\n",
       "      <td>Skilled Trades Occupations</td>\n",
       "      <td>[abandoned, abiding, ability, ability, able, a...</td>\n",
       "      <td>[0.07217657331213086, 0.1431269316529759, 0.06...</td>\n",
       "    </tr>\n",
       "    <tr>\n",
       "      <th>1689</th>\n",
       "      <td>16797684</td>\n",
       "      <td>2</td>\n",
       "      <td>Professional Occupations</td>\n",
       "      <td>[ability, ability, able, able, absolutely, acc...</td>\n",
       "      <td>[0.3008244936371708, 0.16110806083995646, -0.2...</td>\n",
       "    </tr>\n",
       "    <tr>\n",
       "      <th>4942</th>\n",
       "      <td>14871013</td>\n",
       "      <td>3</td>\n",
       "      <td>Associate Professional and Technical Occupations</td>\n",
       "      <td>[abandon, abilities, ability, ability, able, a...</td>\n",
       "      <td>[0.04091567286601898, 0.14582023397535762, -0....</td>\n",
       "    </tr>\n",
       "    <tr>\n",
       "      <th>4317</th>\n",
       "      <td>75687820</td>\n",
       "      <td>6</td>\n",
       "      <td>Caring, Leisure and Other Service Occupations</td>\n",
       "      <td>[ability, ability, ability, absolutely, abuse,...</td>\n",
       "      <td>[-0.024895935193045577, 0.12986074412173476, -...</td>\n",
       "    </tr>\n",
       "  </tbody>\n",
       "</table>\n",
       "</div>"
      ]
     },
     "execution_count": 3,
     "metadata": {},
     "output_type": "execute_result"
    }
   ],
   "execution_count": 3
  },
  {
   "cell_type": "code",
   "source": [
    "class_names = sorted(test_df['occupation_code'].unique().tolist())\n",
    "class_names = [str(item) for item in class_names]\n",
    "\n",
    "print(class_names)\n",
    "print(\"Successfully loaded classes from file.\")"
   ],
   "metadata": {
    "collapsed": false,
    "ExecuteTime": {
     "end_time": "2025-06-20T11:55:27.806849Z",
     "start_time": "2025-06-20T11:55:27.804172Z"
    }
   },
   "id": "566d0e5c4acc08df",
   "outputs": [
    {
     "name": "stdout",
     "output_type": "stream",
     "text": [
      "['1', '2', '3', '4', '5', '6', '7', '8', '9']\n",
      "Successfully loaded classes from file.\n"
     ]
    }
   ],
   "execution_count": 27
  },
  {
   "cell_type": "markdown",
   "source": [
    "### 2. Preparing Data for Scikit-learn"
   ],
   "metadata": {
    "collapsed": false
   },
   "id": "a6d2353cf08d47d6"
  },
  {
   "cell_type": "code",
   "source": [
    "X_train = np.vstack(train_df['fv'].values)\n",
    "X_test = np.vstack(test_df['fv'].values)\n",
    "\n",
    "y_train = train_df['occupation_code'].values - 1\n",
    "y_test = test_df['occupation_code'].values - 1\n",
    "\n",
    "print(f\"Shape of X_train: {X_train.shape}\")\n",
    "print(f\"Shape of y_train: {y_train.shape}\")\n",
    "print(f\"Class names for reports: {class_names}\")"
   ],
   "metadata": {
    "collapsed": false,
    "ExecuteTime": {
     "end_time": "2025-06-20T10:24:24.597945Z",
     "start_time": "2025-06-20T10:24:24.580903Z"
    }
   },
   "id": "bbcf683797924c58",
   "outputs": [
    {
     "name": "stdout",
     "output_type": "stream",
     "text": [
      "Shape of X_train: (4152, 50)\n",
      "Shape of y_train: (4152,)\n",
      "Class names for reports: ['Managers, Directors and Senior Officials', 'Professional Occupations', 'Associate Professional and Technical Occupations', 'Administrative and Secretarial Occupations', 'Skilled Trades Occupations', 'Caring, Leisure and Other Service Occupations', 'Sales and Customer Service Occupations', 'Process, Plant and Machine Operatives', 'Elementary Occupations']\n"
     ]
    }
   ],
   "execution_count": 5
  },
  {
   "cell_type": "markdown",
   "source": [
    "### 3. Training and validation (with grid search CV)"
   ],
   "metadata": {
    "collapsed": false
   },
   "id": "6755738ecad1308b"
  },
  {
   "cell_type": "code",
   "source": [
    "def run_grid_search(model_name, pipeline, param_grid, X_train, y_train):\n",
    "    \"\"\"\n",
    "    Takes a pipeline, parameters, and data, runs GridSearchCV, evaluates on the\n",
    "    validation set, and prints a formatted report.\n",
    "    \"\"\"\n",
    "    print(f\"\\n========== Starting GridSearchCV for: {model_name} ==========\")\n",
    "    start_time = time.time()\n",
    "    \n",
    "    grid_search = GridSearchCV(\n",
    "        estimator=pipeline,\n",
    "        param_grid=param_grid,\n",
    "        cv=5, # 5-fold cross-validation\n",
    "        scoring='f1_macro',\n",
    "        n_jobs=24, # Use all available cores\n",
    "        verbose=0\n",
    "    )\n",
    "    \n",
    "    if isinstance(param_grid, list):\n",
    "        # If it's a list of dictionaries, sum the combinations from each dict\n",
    "        n_combinations = sum(\n",
    "            np.prod([len(v) for v in d.values()]) for d in param_grid\n",
    "        )\n",
    "    else:\n",
    "        # If it's a single dictionary, calculate combinations directly\n",
    "        n_combinations = np.prod([len(v) for v in param_grid.values()])\n",
    "    \n",
    "    total_fits = n_combinations * grid_search.cv\n",
    "    \n",
    "    print(f\"Running GridSearchCV for {model_name} using {total_fits} configurations...\")\n",
    "    with tqdm_joblib(tqdm(desc=f\"{model_name} Grid Search\", total=total_fits)):\n",
    "        grid_search.fit(X_train, y_train)\n",
    "    \n",
    "    end_time = time.time()\n",
    "    \n",
    "    # Evaluate the best model found on the separate validation set\n",
    "    best_model = grid_search.best_estimator_\n",
    "\n",
    "    y_pred = best_model.predict(X_train)\n",
    "\n",
    "    weighted_f1 = f1_score(y_train, y_pred, average='weighted', labels=class_names)\n",
    "    accuracy = accuracy_score(y_train, y_pred)\n",
    "    \n",
    "    print(f\"\\n--- {model_name} Results ---\")\n",
    "    print(f\"Best Parameters: {grid_search.best_params_}\")\n",
    "    print(f\"F1 macro score on training set: {grid_search.best_score_:.4f}\")\n",
    "    print(f\"Weighted F1 score on training set: {weighted_f1:.4f}\")\n",
    "    print(f\"Total Search Time: {end_time - start_time:.2f} seconds\")\n",
    "    print(\"=\" * 60)\n",
    "\n",
    "    model_scores = {\n",
    "        'accuracy': accuracy,\n",
    "        'f1_macro': grid_search.best_score_,\n",
    "        'f1_weighted': weighted_f1,\n",
    "    }\n",
    "    \n",
    "    # Return the validation score for final comparison\n",
    "    return best_model, model_scores"
   ],
   "metadata": {
    "collapsed": false,
    "ExecuteTime": {
     "end_time": "2025-06-20T10:24:24.734310Z",
     "start_time": "2025-06-20T10:24:24.707480Z"
    }
   },
   "id": "aa53616319384f33",
   "outputs": [],
   "execution_count": 6
  },
  {
   "cell_type": "code",
   "source": [
    "scores = {}\n",
    "best_models = {}"
   ],
   "metadata": {
    "collapsed": false,
    "ExecuteTime": {
     "end_time": "2025-06-20T10:24:24.763206Z",
     "start_time": "2025-06-20T10:24:24.761454Z"
    }
   },
   "id": "39829e5eccd9cd4a",
   "outputs": [],
   "execution_count": 7
  },
  {
   "cell_type": "markdown",
   "source": [
    "#### Logistic Regression (Linear Baseline)"
   ],
   "metadata": {
    "collapsed": false
   },
   "id": "39ce4564c3e4e59b"
  },
  {
   "cell_type": "code",
   "source": [
    "# --- Logistic Regression (Baseline) ---\n",
    "pipeline_lr = Pipeline([\n",
    "    ('scaler', StandardScaler()),\n",
    "    ('classifier', LogisticRegression(random_state=42))\n",
    "])\n",
    "\n",
    "param_grid_lr = [\n",
    "    # Configuration for the 'saga' solver\n",
    "    {\n",
    "        'scaler': [StandardScaler(), MinMaxScaler(), 'passthrough'],\n",
    "        'classifier__solver': ['saga'],\n",
    "        'classifier__penalty': ['l1', 'l2', 'elasticnet'],\n",
    "        'classifier__l1_ratio': np.linspace(0.1, 0.9, 3),\n",
    "        'classifier__max_iter': [1000, 2500]\n",
    "    },\n",
    "    # Configuration for 'lbfgs' solver\n",
    "    {\n",
    "        'scaler': [StandardScaler(), MinMaxScaler(), 'passthrough'],\n",
    "        'classifier__solver': ['lbfgs'],\n",
    "        'classifier__penalty': ['l2'],\n",
    "        'classifier__max_iter': [1000, 2500]\n",
    "    }\n",
    "]\n",
    "\n",
    "best_models['Logistic Regression'], scores['Logistic Regression'] = run_grid_search(\n",
    "    'Logistic Regression', pipeline_lr, param_grid_lr, X_train, y_train\n",
    ")"
   ],
   "metadata": {
    "collapsed": false,
    "ExecuteTime": {
     "end_time": "2025-06-20T10:25:15.623503Z",
     "start_time": "2025-06-20T10:24:24.806534Z"
    }
   },
   "id": "8fb25aacfa02074b",
   "outputs": [
    {
     "name": "stdout",
     "output_type": "stream",
     "text": [
      "\n",
      "========== Starting GridSearchCV for: Logistic Regression ==========\n",
      "Running GridSearchCV for Logistic Regression using 300 configurations...\n"
     ]
    },
    {
     "data": {
      "text/plain": [
       "Logistic Regression Grid Search:   0%|          | 0/300 [00:00<?, ?it/s]"
      ],
      "application/vnd.jupyter.widget-view+json": {
       "version_major": 2,
       "version_minor": 0,
       "model_id": "000624ff5c9942b39644d2cbfa8e37c4"
      }
     },
     "metadata": {},
     "output_type": "display_data"
    },
    {
     "name": "stderr",
     "output_type": "stream",
     "text": [
      "/home/epochvpc6/PycharmProjects/WS-twitter/.venv/lib/python3.10/site-packages/sklearn/linear_model/_logistic.py:1213: UserWarning: l1_ratio parameter is only used when penalty is 'elasticnet'. Got (penalty=l2)\n",
      "  warnings.warn(\n",
      "/home/epochvpc6/PycharmProjects/WS-twitter/.venv/lib/python3.10/site-packages/sklearn/linear_model/_logistic.py:1213: UserWarning: l1_ratio parameter is only used when penalty is 'elasticnet'. Got (penalty=l1)\n",
      "  warnings.warn(\n",
      "/home/epochvpc6/PycharmProjects/WS-twitter/.venv/lib/python3.10/site-packages/sklearn/linear_model/_logistic.py:1213: UserWarning: l1_ratio parameter is only used when penalty is 'elasticnet'. Got (penalty=l2)\n",
      "  warnings.warn(\n",
      "/home/epochvpc6/PycharmProjects/WS-twitter/.venv/lib/python3.10/site-packages/sklearn/linear_model/_logistic.py:1213: UserWarning: l1_ratio parameter is only used when penalty is 'elasticnet'. Got (penalty=l1)\n",
      "  warnings.warn(\n",
      "/home/epochvpc6/PycharmProjects/WS-twitter/.venv/lib/python3.10/site-packages/sklearn/linear_model/_logistic.py:1213: UserWarning: l1_ratio parameter is only used when penalty is 'elasticnet'. Got (penalty=l1)\n",
      "  warnings.warn(\n",
      "/home/epochvpc6/PycharmProjects/WS-twitter/.venv/lib/python3.10/site-packages/sklearn/linear_model/_logistic.py:1213: UserWarning: l1_ratio parameter is only used when penalty is 'elasticnet'. Got (penalty=l1)\n",
      "  warnings.warn(\n",
      "/home/epochvpc6/PycharmProjects/WS-twitter/.venv/lib/python3.10/site-packages/sklearn/linear_model/_logistic.py:1213: UserWarning: l1_ratio parameter is only used when penalty is 'elasticnet'. Got (penalty=l1)\n",
      "  warnings.warn(\n",
      "/home/epochvpc6/PycharmProjects/WS-twitter/.venv/lib/python3.10/site-packages/sklearn/linear_model/_logistic.py:1213: UserWarning: l1_ratio parameter is only used when penalty is 'elasticnet'. Got (penalty=l2)\n",
      "  warnings.warn(\n",
      "/home/epochvpc6/PycharmProjects/WS-twitter/.venv/lib/python3.10/site-packages/sklearn/linear_model/_logistic.py:1213: UserWarning: l1_ratio parameter is only used when penalty is 'elasticnet'. Got (penalty=l1)\n",
      "  warnings.warn(\n",
      "/home/epochvpc6/PycharmProjects/WS-twitter/.venv/lib/python3.10/site-packages/sklearn/linear_model/_logistic.py:1213: UserWarning: l1_ratio parameter is only used when penalty is 'elasticnet'. Got (penalty=l1)\n",
      "  warnings.warn(\n",
      "/home/epochvpc6/PycharmProjects/WS-twitter/.venv/lib/python3.10/site-packages/sklearn/linear_model/_logistic.py:1213: UserWarning: l1_ratio parameter is only used when penalty is 'elasticnet'. Got (penalty=l1)\n",
      "  warnings.warn(\n",
      "/home/epochvpc6/PycharmProjects/WS-twitter/.venv/lib/python3.10/site-packages/sklearn/linear_model/_logistic.py:1213: UserWarning: l1_ratio parameter is only used when penalty is 'elasticnet'. Got (penalty=l1)\n",
      "  warnings.warn(\n",
      "/home/epochvpc6/PycharmProjects/WS-twitter/.venv/lib/python3.10/site-packages/sklearn/linear_model/_logistic.py:1213: UserWarning: l1_ratio parameter is only used when penalty is 'elasticnet'. Got (penalty=l1)\n",
      "  warnings.warn(\n",
      "/home/epochvpc6/PycharmProjects/WS-twitter/.venv/lib/python3.10/site-packages/sklearn/linear_model/_logistic.py:1213: UserWarning: l1_ratio parameter is only used when penalty is 'elasticnet'. Got (penalty=l1)\n",
      "  warnings.warn(\n",
      "/home/epochvpc6/PycharmProjects/WS-twitter/.venv/lib/python3.10/site-packages/sklearn/linear_model/_logistic.py:1213: UserWarning: l1_ratio parameter is only used when penalty is 'elasticnet'. Got (penalty=l1)\n",
      "  warnings.warn(\n",
      "/home/epochvpc6/PycharmProjects/WS-twitter/.venv/lib/python3.10/site-packages/sklearn/linear_model/_logistic.py:1213: UserWarning: l1_ratio parameter is only used when penalty is 'elasticnet'. Got (penalty=l1)\n",
      "  warnings.warn(\n",
      "/home/epochvpc6/PycharmProjects/WS-twitter/.venv/lib/python3.10/site-packages/sklearn/linear_model/_logistic.py:1213: UserWarning: l1_ratio parameter is only used when penalty is 'elasticnet'. Got (penalty=l1)\n",
      "  warnings.warn(\n",
      "/home/epochvpc6/PycharmProjects/WS-twitter/.venv/lib/python3.10/site-packages/sklearn/linear_model/_logistic.py:1213: UserWarning: l1_ratio parameter is only used when penalty is 'elasticnet'. Got (penalty=l1)\n",
      "  warnings.warn(\n",
      "/home/epochvpc6/PycharmProjects/WS-twitter/.venv/lib/python3.10/site-packages/sklearn/linear_model/_logistic.py:1213: UserWarning: l1_ratio parameter is only used when penalty is 'elasticnet'. Got (penalty=l2)\n",
      "  warnings.warn(\n",
      "/home/epochvpc6/PycharmProjects/WS-twitter/.venv/lib/python3.10/site-packages/sklearn/linear_model/_logistic.py:1213: UserWarning: l1_ratio parameter is only used when penalty is 'elasticnet'. Got (penalty=l2)\n",
      "  warnings.warn(\n",
      "/home/epochvpc6/PycharmProjects/WS-twitter/.venv/lib/python3.10/site-packages/sklearn/linear_model/_logistic.py:1213: UserWarning: l1_ratio parameter is only used when penalty is 'elasticnet'. Got (penalty=l2)\n",
      "  warnings.warn(\n",
      "/home/epochvpc6/PycharmProjects/WS-twitter/.venv/lib/python3.10/site-packages/sklearn/linear_model/_logistic.py:1213: UserWarning: l1_ratio parameter is only used when penalty is 'elasticnet'. Got (penalty=l2)\n",
      "  warnings.warn(\n",
      "/home/epochvpc6/PycharmProjects/WS-twitter/.venv/lib/python3.10/site-packages/sklearn/linear_model/_logistic.py:1213: UserWarning: l1_ratio parameter is only used when penalty is 'elasticnet'. Got (penalty=l2)\n",
      "  warnings.warn(\n",
      "/home/epochvpc6/PycharmProjects/WS-twitter/.venv/lib/python3.10/site-packages/sklearn/linear_model/_logistic.py:1213: UserWarning: l1_ratio parameter is only used when penalty is 'elasticnet'. Got (penalty=l2)\n",
      "  warnings.warn(\n",
      "/home/epochvpc6/PycharmProjects/WS-twitter/.venv/lib/python3.10/site-packages/sklearn/linear_model/_logistic.py:1213: UserWarning: l1_ratio parameter is only used when penalty is 'elasticnet'. Got (penalty=l2)\n",
      "  warnings.warn(\n",
      "/home/epochvpc6/PycharmProjects/WS-twitter/.venv/lib/python3.10/site-packages/sklearn/linear_model/_logistic.py:1213: UserWarning: l1_ratio parameter is only used when penalty is 'elasticnet'. Got (penalty=l2)\n",
      "  warnings.warn(\n",
      "/home/epochvpc6/PycharmProjects/WS-twitter/.venv/lib/python3.10/site-packages/sklearn/linear_model/_logistic.py:1213: UserWarning: l1_ratio parameter is only used when penalty is 'elasticnet'. Got (penalty=l2)\n",
      "  warnings.warn(\n",
      "/home/epochvpc6/PycharmProjects/WS-twitter/.venv/lib/python3.10/site-packages/sklearn/linear_model/_logistic.py:1213: UserWarning: l1_ratio parameter is only used when penalty is 'elasticnet'. Got (penalty=l2)\n",
      "  warnings.warn(\n",
      "/home/epochvpc6/PycharmProjects/WS-twitter/.venv/lib/python3.10/site-packages/sklearn/linear_model/_logistic.py:1213: UserWarning: l1_ratio parameter is only used when penalty is 'elasticnet'. Got (penalty=l2)\n",
      "  warnings.warn(\n",
      "/home/epochvpc6/PycharmProjects/WS-twitter/.venv/lib/python3.10/site-packages/sklearn/linear_model/_logistic.py:1213: UserWarning: l1_ratio parameter is only used when penalty is 'elasticnet'. Got (penalty=l2)\n",
      "  warnings.warn(\n",
      "/home/epochvpc6/PycharmProjects/WS-twitter/.venv/lib/python3.10/site-packages/sklearn/linear_model/_sag.py:348: ConvergenceWarning: The max_iter was reached which means the coef_ did not converge\n",
      "  warnings.warn(\n",
      "/home/epochvpc6/PycharmProjects/WS-twitter/.venv/lib/python3.10/site-packages/sklearn/linear_model/_logistic.py:1213: UserWarning: l1_ratio parameter is only used when penalty is 'elasticnet'. Got (penalty=l1)\n",
      "  warnings.warn(\n",
      "/home/epochvpc6/PycharmProjects/WS-twitter/.venv/lib/python3.10/site-packages/sklearn/linear_model/_logistic.py:1213: UserWarning: l1_ratio parameter is only used when penalty is 'elasticnet'. Got (penalty=l1)\n",
      "  warnings.warn(\n",
      "/home/epochvpc6/PycharmProjects/WS-twitter/.venv/lib/python3.10/site-packages/sklearn/linear_model/_sag.py:348: ConvergenceWarning: The max_iter was reached which means the coef_ did not converge\n",
      "  warnings.warn(\n",
      "/home/epochvpc6/PycharmProjects/WS-twitter/.venv/lib/python3.10/site-packages/sklearn/linear_model/_logistic.py:1213: UserWarning: l1_ratio parameter is only used when penalty is 'elasticnet'. Got (penalty=l1)\n",
      "  warnings.warn(\n",
      "/home/epochvpc6/PycharmProjects/WS-twitter/.venv/lib/python3.10/site-packages/sklearn/linear_model/_logistic.py:1213: UserWarning: l1_ratio parameter is only used when penalty is 'elasticnet'. Got (penalty=l1)\n",
      "  warnings.warn(\n",
      "/home/epochvpc6/PycharmProjects/WS-twitter/.venv/lib/python3.10/site-packages/sklearn/linear_model/_sag.py:348: ConvergenceWarning: The max_iter was reached which means the coef_ did not converge\n",
      "  warnings.warn(\n",
      "/home/epochvpc6/PycharmProjects/WS-twitter/.venv/lib/python3.10/site-packages/sklearn/linear_model/_logistic.py:1213: UserWarning: l1_ratio parameter is only used when penalty is 'elasticnet'. Got (penalty=l1)\n",
      "  warnings.warn(\n",
      "/home/epochvpc6/PycharmProjects/WS-twitter/.venv/lib/python3.10/site-packages/sklearn/linear_model/_logistic.py:1213: UserWarning: l1_ratio parameter is only used when penalty is 'elasticnet'. Got (penalty=l1)\n",
      "  warnings.warn(\n",
      "/home/epochvpc6/PycharmProjects/WS-twitter/.venv/lib/python3.10/site-packages/sklearn/linear_model/_logistic.py:1213: UserWarning: l1_ratio parameter is only used when penalty is 'elasticnet'. Got (penalty=l1)\n",
      "  warnings.warn(\n",
      "/home/epochvpc6/PycharmProjects/WS-twitter/.venv/lib/python3.10/site-packages/sklearn/linear_model/_logistic.py:1213: UserWarning: l1_ratio parameter is only used when penalty is 'elasticnet'. Got (penalty=l1)\n",
      "  warnings.warn(\n",
      "/home/epochvpc6/PycharmProjects/WS-twitter/.venv/lib/python3.10/site-packages/sklearn/linear_model/_logistic.py:1213: UserWarning: l1_ratio parameter is only used when penalty is 'elasticnet'. Got (penalty=l1)\n",
      "  warnings.warn(\n",
      "/home/epochvpc6/PycharmProjects/WS-twitter/.venv/lib/python3.10/site-packages/sklearn/linear_model/_logistic.py:1213: UserWarning: l1_ratio parameter is only used when penalty is 'elasticnet'. Got (penalty=l1)\n",
      "  warnings.warn(\n",
      "/home/epochvpc6/PycharmProjects/WS-twitter/.venv/lib/python3.10/site-packages/sklearn/linear_model/_logistic.py:1213: UserWarning: l1_ratio parameter is only used when penalty is 'elasticnet'. Got (penalty=l1)\n",
      "  warnings.warn(\n",
      "/home/epochvpc6/PycharmProjects/WS-twitter/.venv/lib/python3.10/site-packages/sklearn/linear_model/_logistic.py:1213: UserWarning: l1_ratio parameter is only used when penalty is 'elasticnet'. Got (penalty=l1)\n",
      "  warnings.warn(\n",
      "/home/epochvpc6/PycharmProjects/WS-twitter/.venv/lib/python3.10/site-packages/sklearn/linear_model/_logistic.py:1213: UserWarning: l1_ratio parameter is only used when penalty is 'elasticnet'. Got (penalty=l1)\n",
      "  warnings.warn(\n",
      "/home/epochvpc6/PycharmProjects/WS-twitter/.venv/lib/python3.10/site-packages/sklearn/linear_model/_logistic.py:1213: UserWarning: l1_ratio parameter is only used when penalty is 'elasticnet'. Got (penalty=l1)\n",
      "  warnings.warn(\n",
      "/home/epochvpc6/PycharmProjects/WS-twitter/.venv/lib/python3.10/site-packages/sklearn/linear_model/_sag.py:348: ConvergenceWarning: The max_iter was reached which means the coef_ did not converge\n",
      "  warnings.warn(\n",
      "/home/epochvpc6/PycharmProjects/WS-twitter/.venv/lib/python3.10/site-packages/sklearn/linear_model/_logistic.py:1213: UserWarning: l1_ratio parameter is only used when penalty is 'elasticnet'. Got (penalty=l1)\n",
      "  warnings.warn(\n",
      "/home/epochvpc6/PycharmProjects/WS-twitter/.venv/lib/python3.10/site-packages/sklearn/linear_model/_sag.py:348: ConvergenceWarning: The max_iter was reached which means the coef_ did not converge\n",
      "  warnings.warn(\n",
      "/home/epochvpc6/PycharmProjects/WS-twitter/.venv/lib/python3.10/site-packages/sklearn/linear_model/_logistic.py:1213: UserWarning: l1_ratio parameter is only used when penalty is 'elasticnet'. Got (penalty=l2)\n",
      "  warnings.warn(\n",
      "/home/epochvpc6/PycharmProjects/WS-twitter/.venv/lib/python3.10/site-packages/sklearn/linear_model/_sag.py:348: ConvergenceWarning: The max_iter was reached which means the coef_ did not converge\n",
      "  warnings.warn(\n",
      "/home/epochvpc6/PycharmProjects/WS-twitter/.venv/lib/python3.10/site-packages/sklearn/linear_model/_logistic.py:1213: UserWarning: l1_ratio parameter is only used when penalty is 'elasticnet'. Got (penalty=l2)\n",
      "  warnings.warn(\n",
      "/home/epochvpc6/PycharmProjects/WS-twitter/.venv/lib/python3.10/site-packages/sklearn/linear_model/_logistic.py:1213: UserWarning: l1_ratio parameter is only used when penalty is 'elasticnet'. Got (penalty=l2)\n",
      "  warnings.warn(\n",
      "/home/epochvpc6/PycharmProjects/WS-twitter/.venv/lib/python3.10/site-packages/sklearn/linear_model/_logistic.py:1213: UserWarning: l1_ratio parameter is only used when penalty is 'elasticnet'. Got (penalty=l2)\n",
      "  warnings.warn(\n",
      "/home/epochvpc6/PycharmProjects/WS-twitter/.venv/lib/python3.10/site-packages/sklearn/linear_model/_sag.py:348: ConvergenceWarning: The max_iter was reached which means the coef_ did not converge\n",
      "  warnings.warn(\n",
      "/home/epochvpc6/PycharmProjects/WS-twitter/.venv/lib/python3.10/site-packages/sklearn/linear_model/_logistic.py:1213: UserWarning: l1_ratio parameter is only used when penalty is 'elasticnet'. Got (penalty=l2)\n",
      "  warnings.warn(\n",
      "/home/epochvpc6/PycharmProjects/WS-twitter/.venv/lib/python3.10/site-packages/sklearn/linear_model/_logistic.py:1213: UserWarning: l1_ratio parameter is only used when penalty is 'elasticnet'. Got (penalty=l2)\n",
      "  warnings.warn(\n",
      "/home/epochvpc6/PycharmProjects/WS-twitter/.venv/lib/python3.10/site-packages/sklearn/linear_model/_sag.py:348: ConvergenceWarning: The max_iter was reached which means the coef_ did not converge\n",
      "  warnings.warn(\n",
      "/home/epochvpc6/PycharmProjects/WS-twitter/.venv/lib/python3.10/site-packages/sklearn/linear_model/_logistic.py:1213: UserWarning: l1_ratio parameter is only used when penalty is 'elasticnet'. Got (penalty=l2)\n",
      "  warnings.warn(\n",
      "/home/epochvpc6/PycharmProjects/WS-twitter/.venv/lib/python3.10/site-packages/sklearn/linear_model/_logistic.py:1213: UserWarning: l1_ratio parameter is only used when penalty is 'elasticnet'. Got (penalty=l2)\n",
      "  warnings.warn(\n",
      "/home/epochvpc6/PycharmProjects/WS-twitter/.venv/lib/python3.10/site-packages/sklearn/linear_model/_logistic.py:1213: UserWarning: l1_ratio parameter is only used when penalty is 'elasticnet'. Got (penalty=l2)\n",
      "  warnings.warn(\n",
      "/home/epochvpc6/PycharmProjects/WS-twitter/.venv/lib/python3.10/site-packages/sklearn/linear_model/_logistic.py:1213: UserWarning: l1_ratio parameter is only used when penalty is 'elasticnet'. Got (penalty=l2)\n",
      "  warnings.warn(\n",
      "/home/epochvpc6/PycharmProjects/WS-twitter/.venv/lib/python3.10/site-packages/sklearn/linear_model/_logistic.py:1213: UserWarning: l1_ratio parameter is only used when penalty is 'elasticnet'. Got (penalty=l2)\n",
      "  warnings.warn(\n",
      "/home/epochvpc6/PycharmProjects/WS-twitter/.venv/lib/python3.10/site-packages/sklearn/linear_model/_logistic.py:1213: UserWarning: l1_ratio parameter is only used when penalty is 'elasticnet'. Got (penalty=l2)\n",
      "  warnings.warn(\n",
      "/home/epochvpc6/PycharmProjects/WS-twitter/.venv/lib/python3.10/site-packages/sklearn/linear_model/_logistic.py:1213: UserWarning: l1_ratio parameter is only used when penalty is 'elasticnet'. Got (penalty=l2)\n",
      "  warnings.warn(\n",
      "/home/epochvpc6/PycharmProjects/WS-twitter/.venv/lib/python3.10/site-packages/sklearn/linear_model/_logistic.py:1213: UserWarning: l1_ratio parameter is only used when penalty is 'elasticnet'. Got (penalty=l2)\n",
      "  warnings.warn(\n",
      "/home/epochvpc6/PycharmProjects/WS-twitter/.venv/lib/python3.10/site-packages/sklearn/linear_model/_logistic.py:1213: UserWarning: l1_ratio parameter is only used when penalty is 'elasticnet'. Got (penalty=l2)\n",
      "  warnings.warn(\n",
      "/home/epochvpc6/PycharmProjects/WS-twitter/.venv/lib/python3.10/site-packages/sklearn/linear_model/_logistic.py:1213: UserWarning: l1_ratio parameter is only used when penalty is 'elasticnet'. Got (penalty=l1)\n",
      "  warnings.warn(\n",
      "/home/epochvpc6/PycharmProjects/WS-twitter/.venv/lib/python3.10/site-packages/sklearn/linear_model/_logistic.py:1213: UserWarning: l1_ratio parameter is only used when penalty is 'elasticnet'. Got (penalty=l1)\n",
      "  warnings.warn(\n",
      "/home/epochvpc6/PycharmProjects/WS-twitter/.venv/lib/python3.10/site-packages/sklearn/linear_model/_logistic.py:1213: UserWarning: l1_ratio parameter is only used when penalty is 'elasticnet'. Got (penalty=l1)\n",
      "  warnings.warn(\n",
      "/home/epochvpc6/PycharmProjects/WS-twitter/.venv/lib/python3.10/site-packages/sklearn/linear_model/_logistic.py:1213: UserWarning: l1_ratio parameter is only used when penalty is 'elasticnet'. Got (penalty=l1)\n",
      "  warnings.warn(\n",
      "/home/epochvpc6/PycharmProjects/WS-twitter/.venv/lib/python3.10/site-packages/sklearn/linear_model/_logistic.py:1213: UserWarning: l1_ratio parameter is only used when penalty is 'elasticnet'. Got (penalty=l1)\n",
      "  warnings.warn(\n",
      "/home/epochvpc6/PycharmProjects/WS-twitter/.venv/lib/python3.10/site-packages/sklearn/linear_model/_logistic.py:1213: UserWarning: l1_ratio parameter is only used when penalty is 'elasticnet'. Got (penalty=l1)\n",
      "  warnings.warn(\n",
      "/home/epochvpc6/PycharmProjects/WS-twitter/.venv/lib/python3.10/site-packages/sklearn/linear_model/_logistic.py:1213: UserWarning: l1_ratio parameter is only used when penalty is 'elasticnet'. Got (penalty=l1)\n",
      "  warnings.warn(\n",
      "/home/epochvpc6/PycharmProjects/WS-twitter/.venv/lib/python3.10/site-packages/sklearn/linear_model/_logistic.py:1213: UserWarning: l1_ratio parameter is only used when penalty is 'elasticnet'. Got (penalty=l1)\n",
      "  warnings.warn(\n",
      "/home/epochvpc6/PycharmProjects/WS-twitter/.venv/lib/python3.10/site-packages/sklearn/linear_model/_logistic.py:1213: UserWarning: l1_ratio parameter is only used when penalty is 'elasticnet'. Got (penalty=l1)\n",
      "  warnings.warn(\n",
      "/home/epochvpc6/PycharmProjects/WS-twitter/.venv/lib/python3.10/site-packages/sklearn/linear_model/_logistic.py:1213: UserWarning: l1_ratio parameter is only used when penalty is 'elasticnet'. Got (penalty=l1)\n",
      "  warnings.warn(\n",
      "/home/epochvpc6/PycharmProjects/WS-twitter/.venv/lib/python3.10/site-packages/sklearn/linear_model/_logistic.py:1213: UserWarning: l1_ratio parameter is only used when penalty is 'elasticnet'. Got (penalty=l1)\n",
      "  warnings.warn(\n",
      "/home/epochvpc6/PycharmProjects/WS-twitter/.venv/lib/python3.10/site-packages/sklearn/linear_model/_logistic.py:1213: UserWarning: l1_ratio parameter is only used when penalty is 'elasticnet'. Got (penalty=l1)\n",
      "  warnings.warn(\n",
      "/home/epochvpc6/PycharmProjects/WS-twitter/.venv/lib/python3.10/site-packages/sklearn/linear_model/_logistic.py:1213: UserWarning: l1_ratio parameter is only used when penalty is 'elasticnet'. Got (penalty=l1)\n",
      "  warnings.warn(\n",
      "/home/epochvpc6/PycharmProjects/WS-twitter/.venv/lib/python3.10/site-packages/sklearn/linear_model/_logistic.py:1213: UserWarning: l1_ratio parameter is only used when penalty is 'elasticnet'. Got (penalty=l1)\n",
      "  warnings.warn(\n",
      "/home/epochvpc6/PycharmProjects/WS-twitter/.venv/lib/python3.10/site-packages/sklearn/linear_model/_logistic.py:1213: UserWarning: l1_ratio parameter is only used when penalty is 'elasticnet'. Got (penalty=l1)\n",
      "  warnings.warn(\n",
      "/home/epochvpc6/PycharmProjects/WS-twitter/.venv/lib/python3.10/site-packages/sklearn/linear_model/_logistic.py:1213: UserWarning: l1_ratio parameter is only used when penalty is 'elasticnet'. Got (penalty=l2)\n",
      "  warnings.warn(\n",
      "/home/epochvpc6/PycharmProjects/WS-twitter/.venv/lib/python3.10/site-packages/sklearn/linear_model/_logistic.py:1213: UserWarning: l1_ratio parameter is only used when penalty is 'elasticnet'. Got (penalty=l2)\n",
      "  warnings.warn(\n",
      "/home/epochvpc6/PycharmProjects/WS-twitter/.venv/lib/python3.10/site-packages/sklearn/linear_model/_logistic.py:1213: UserWarning: l1_ratio parameter is only used when penalty is 'elasticnet'. Got (penalty=l2)\n",
      "  warnings.warn(\n",
      "/home/epochvpc6/PycharmProjects/WS-twitter/.venv/lib/python3.10/site-packages/sklearn/linear_model/_logistic.py:1213: UserWarning: l1_ratio parameter is only used when penalty is 'elasticnet'. Got (penalty=l2)\n",
      "  warnings.warn(\n",
      "/home/epochvpc6/PycharmProjects/WS-twitter/.venv/lib/python3.10/site-packages/sklearn/linear_model/_logistic.py:1213: UserWarning: l1_ratio parameter is only used when penalty is 'elasticnet'. Got (penalty=l2)\n",
      "  warnings.warn(\n",
      "/home/epochvpc6/PycharmProjects/WS-twitter/.venv/lib/python3.10/site-packages/sklearn/linear_model/_logistic.py:1213: UserWarning: l1_ratio parameter is only used when penalty is 'elasticnet'. Got (penalty=l2)\n",
      "  warnings.warn(\n",
      "/home/epochvpc6/PycharmProjects/WS-twitter/.venv/lib/python3.10/site-packages/sklearn/linear_model/_logistic.py:1213: UserWarning: l1_ratio parameter is only used when penalty is 'elasticnet'. Got (penalty=l2)\n",
      "  warnings.warn(\n",
      "/home/epochvpc6/PycharmProjects/WS-twitter/.venv/lib/python3.10/site-packages/sklearn/linear_model/_logistic.py:1213: UserWarning: l1_ratio parameter is only used when penalty is 'elasticnet'. Got (penalty=l2)\n",
      "  warnings.warn(\n",
      "/home/epochvpc6/PycharmProjects/WS-twitter/.venv/lib/python3.10/site-packages/sklearn/linear_model/_logistic.py:1213: UserWarning: l1_ratio parameter is only used when penalty is 'elasticnet'. Got (penalty=l2)\n",
      "  warnings.warn(\n",
      "/home/epochvpc6/PycharmProjects/WS-twitter/.venv/lib/python3.10/site-packages/sklearn/linear_model/_logistic.py:1213: UserWarning: l1_ratio parameter is only used when penalty is 'elasticnet'. Got (penalty=l2)\n",
      "  warnings.warn(\n",
      "/home/epochvpc6/PycharmProjects/WS-twitter/.venv/lib/python3.10/site-packages/sklearn/linear_model/_logistic.py:1213: UserWarning: l1_ratio parameter is only used when penalty is 'elasticnet'. Got (penalty=l2)\n",
      "  warnings.warn(\n",
      "/home/epochvpc6/PycharmProjects/WS-twitter/.venv/lib/python3.10/site-packages/sklearn/linear_model/_sag.py:348: ConvergenceWarning: The max_iter was reached which means the coef_ did not converge\n",
      "  warnings.warn(\n",
      "/home/epochvpc6/PycharmProjects/WS-twitter/.venv/lib/python3.10/site-packages/sklearn/linear_model/_logistic.py:1213: UserWarning: l1_ratio parameter is only used when penalty is 'elasticnet'. Got (penalty=l2)\n",
      "  warnings.warn(\n",
      "/home/epochvpc6/PycharmProjects/WS-twitter/.venv/lib/python3.10/site-packages/sklearn/linear_model/_logistic.py:1213: UserWarning: l1_ratio parameter is only used when penalty is 'elasticnet'. Got (penalty=l2)\n",
      "  warnings.warn(\n",
      "/home/epochvpc6/PycharmProjects/WS-twitter/.venv/lib/python3.10/site-packages/sklearn/linear_model/_logistic.py:1213: UserWarning: l1_ratio parameter is only used when penalty is 'elasticnet'. Got (penalty=l2)\n",
      "  warnings.warn(\n",
      "/home/epochvpc6/PycharmProjects/WS-twitter/.venv/lib/python3.10/site-packages/sklearn/linear_model/_logistic.py:1213: UserWarning: l1_ratio parameter is only used when penalty is 'elasticnet'. Got (penalty=l2)\n",
      "  warnings.warn(\n",
      "/home/epochvpc6/PycharmProjects/WS-twitter/.venv/lib/python3.10/site-packages/sklearn/linear_model/_sag.py:348: ConvergenceWarning: The max_iter was reached which means the coef_ did not converge\n",
      "  warnings.warn(\n",
      "/home/epochvpc6/PycharmProjects/WS-twitter/.venv/lib/python3.10/site-packages/sklearn/linear_model/_logistic.py:1213: UserWarning: l1_ratio parameter is only used when penalty is 'elasticnet'. Got (penalty=l1)\n",
      "  warnings.warn(\n",
      "/home/epochvpc6/PycharmProjects/WS-twitter/.venv/lib/python3.10/site-packages/sklearn/linear_model/_sag.py:348: ConvergenceWarning: The max_iter was reached which means the coef_ did not converge\n",
      "  warnings.warn(\n",
      "/home/epochvpc6/PycharmProjects/WS-twitter/.venv/lib/python3.10/site-packages/sklearn/linear_model/_logistic.py:1213: UserWarning: l1_ratio parameter is only used when penalty is 'elasticnet'. Got (penalty=l1)\n",
      "  warnings.warn(\n",
      "/home/epochvpc6/PycharmProjects/WS-twitter/.venv/lib/python3.10/site-packages/sklearn/linear_model/_logistic.py:1213: UserWarning: l1_ratio parameter is only used when penalty is 'elasticnet'. Got (penalty=l1)\n",
      "  warnings.warn(\n",
      "/home/epochvpc6/PycharmProjects/WS-twitter/.venv/lib/python3.10/site-packages/sklearn/linear_model/_logistic.py:1213: UserWarning: l1_ratio parameter is only used when penalty is 'elasticnet'. Got (penalty=l1)\n",
      "  warnings.warn(\n",
      "/home/epochvpc6/PycharmProjects/WS-twitter/.venv/lib/python3.10/site-packages/sklearn/linear_model/_logistic.py:1213: UserWarning: l1_ratio parameter is only used when penalty is 'elasticnet'. Got (penalty=l1)\n",
      "  warnings.warn(\n",
      "/home/epochvpc6/PycharmProjects/WS-twitter/.venv/lib/python3.10/site-packages/sklearn/linear_model/_sag.py:348: ConvergenceWarning: The max_iter was reached which means the coef_ did not converge\n",
      "  warnings.warn(\n",
      "/home/epochvpc6/PycharmProjects/WS-twitter/.venv/lib/python3.10/site-packages/sklearn/linear_model/_logistic.py:1213: UserWarning: l1_ratio parameter is only used when penalty is 'elasticnet'. Got (penalty=l1)\n",
      "  warnings.warn(\n",
      "/home/epochvpc6/PycharmProjects/WS-twitter/.venv/lib/python3.10/site-packages/sklearn/linear_model/_logistic.py:1213: UserWarning: l1_ratio parameter is only used when penalty is 'elasticnet'. Got (penalty=l1)\n",
      "  warnings.warn(\n",
      "/home/epochvpc6/PycharmProjects/WS-twitter/.venv/lib/python3.10/site-packages/sklearn/linear_model/_logistic.py:1213: UserWarning: l1_ratio parameter is only used when penalty is 'elasticnet'. Got (penalty=l1)\n",
      "  warnings.warn(\n",
      "/home/epochvpc6/PycharmProjects/WS-twitter/.venv/lib/python3.10/site-packages/sklearn/linear_model/_logistic.py:1213: UserWarning: l1_ratio parameter is only used when penalty is 'elasticnet'. Got (penalty=l1)\n",
      "  warnings.warn(\n",
      "/home/epochvpc6/PycharmProjects/WS-twitter/.venv/lib/python3.10/site-packages/sklearn/linear_model/_logistic.py:1213: UserWarning: l1_ratio parameter is only used when penalty is 'elasticnet'. Got (penalty=l1)\n",
      "  warnings.warn(\n",
      "/home/epochvpc6/PycharmProjects/WS-twitter/.venv/lib/python3.10/site-packages/sklearn/linear_model/_logistic.py:1213: UserWarning: l1_ratio parameter is only used when penalty is 'elasticnet'. Got (penalty=l1)\n",
      "  warnings.warn(\n",
      "/home/epochvpc6/PycharmProjects/WS-twitter/.venv/lib/python3.10/site-packages/sklearn/linear_model/_logistic.py:1213: UserWarning: l1_ratio parameter is only used when penalty is 'elasticnet'. Got (penalty=l1)\n",
      "  warnings.warn(\n",
      "/home/epochvpc6/PycharmProjects/WS-twitter/.venv/lib/python3.10/site-packages/sklearn/linear_model/_logistic.py:1213: UserWarning: l1_ratio parameter is only used when penalty is 'elasticnet'. Got (penalty=l1)\n",
      "  warnings.warn(\n",
      "/home/epochvpc6/PycharmProjects/WS-twitter/.venv/lib/python3.10/site-packages/sklearn/linear_model/_logistic.py:1213: UserWarning: l1_ratio parameter is only used when penalty is 'elasticnet'. Got (penalty=l1)\n",
      "  warnings.warn(\n",
      "/home/epochvpc6/PycharmProjects/WS-twitter/.venv/lib/python3.10/site-packages/sklearn/linear_model/_sag.py:348: ConvergenceWarning: The max_iter was reached which means the coef_ did not converge\n",
      "  warnings.warn(\n",
      "/home/epochvpc6/PycharmProjects/WS-twitter/.venv/lib/python3.10/site-packages/sklearn/linear_model/_logistic.py:1213: UserWarning: l1_ratio parameter is only used when penalty is 'elasticnet'. Got (penalty=l1)\n",
      "  warnings.warn(\n",
      "/home/epochvpc6/PycharmProjects/WS-twitter/.venv/lib/python3.10/site-packages/sklearn/linear_model/_sag.py:348: ConvergenceWarning: The max_iter was reached which means the coef_ did not converge\n",
      "  warnings.warn(\n",
      "/home/epochvpc6/PycharmProjects/WS-twitter/.venv/lib/python3.10/site-packages/sklearn/linear_model/_logistic.py:1213: UserWarning: l1_ratio parameter is only used when penalty is 'elasticnet'. Got (penalty=l2)\n",
      "  warnings.warn(\n",
      "/home/epochvpc6/PycharmProjects/WS-twitter/.venv/lib/python3.10/site-packages/sklearn/linear_model/_logistic.py:1213: UserWarning: l1_ratio parameter is only used when penalty is 'elasticnet'. Got (penalty=l2)\n",
      "  warnings.warn(\n",
      "/home/epochvpc6/PycharmProjects/WS-twitter/.venv/lib/python3.10/site-packages/sklearn/linear_model/_sag.py:348: ConvergenceWarning: The max_iter was reached which means the coef_ did not converge\n",
      "  warnings.warn(\n",
      "/home/epochvpc6/PycharmProjects/WS-twitter/.venv/lib/python3.10/site-packages/sklearn/linear_model/_logistic.py:1213: UserWarning: l1_ratio parameter is only used when penalty is 'elasticnet'. Got (penalty=l2)\n",
      "  warnings.warn(\n",
      "/home/epochvpc6/PycharmProjects/WS-twitter/.venv/lib/python3.10/site-packages/sklearn/linear_model/_logistic.py:1213: UserWarning: l1_ratio parameter is only used when penalty is 'elasticnet'. Got (penalty=l2)\n",
      "  warnings.warn(\n",
      "/home/epochvpc6/PycharmProjects/WS-twitter/.venv/lib/python3.10/site-packages/sklearn/linear_model/_logistic.py:1213: UserWarning: l1_ratio parameter is only used when penalty is 'elasticnet'. Got (penalty=l2)\n",
      "  warnings.warn(\n",
      "/home/epochvpc6/PycharmProjects/WS-twitter/.venv/lib/python3.10/site-packages/sklearn/linear_model/_logistic.py:1213: UserWarning: l1_ratio parameter is only used when penalty is 'elasticnet'. Got (penalty=l2)\n",
      "  warnings.warn(\n",
      "/home/epochvpc6/PycharmProjects/WS-twitter/.venv/lib/python3.10/site-packages/sklearn/linear_model/_logistic.py:1213: UserWarning: l1_ratio parameter is only used when penalty is 'elasticnet'. Got (penalty=l2)\n",
      "  warnings.warn(\n",
      "/home/epochvpc6/PycharmProjects/WS-twitter/.venv/lib/python3.10/site-packages/sklearn/linear_model/_logistic.py:1213: UserWarning: l1_ratio parameter is only used when penalty is 'elasticnet'. Got (penalty=l2)\n",
      "  warnings.warn(\n",
      "/home/epochvpc6/PycharmProjects/WS-twitter/.venv/lib/python3.10/site-packages/sklearn/linear_model/_logistic.py:1213: UserWarning: l1_ratio parameter is only used when penalty is 'elasticnet'. Got (penalty=l2)\n",
      "  warnings.warn(\n",
      "/home/epochvpc6/PycharmProjects/WS-twitter/.venv/lib/python3.10/site-packages/sklearn/linear_model/_logistic.py:1213: UserWarning: l1_ratio parameter is only used when penalty is 'elasticnet'. Got (penalty=l2)\n",
      "  warnings.warn(\n",
      "/home/epochvpc6/PycharmProjects/WS-twitter/.venv/lib/python3.10/site-packages/sklearn/linear_model/_logistic.py:1213: UserWarning: l1_ratio parameter is only used when penalty is 'elasticnet'. Got (penalty=l2)\n",
      "  warnings.warn(\n",
      "/home/epochvpc6/PycharmProjects/WS-twitter/.venv/lib/python3.10/site-packages/sklearn/linear_model/_logistic.py:1213: UserWarning: l1_ratio parameter is only used when penalty is 'elasticnet'. Got (penalty=l2)\n",
      "  warnings.warn(\n",
      "/home/epochvpc6/PycharmProjects/WS-twitter/.venv/lib/python3.10/site-packages/sklearn/linear_model/_logistic.py:1213: UserWarning: l1_ratio parameter is only used when penalty is 'elasticnet'. Got (penalty=l2)\n",
      "  warnings.warn(\n",
      "/home/epochvpc6/PycharmProjects/WS-twitter/.venv/lib/python3.10/site-packages/sklearn/linear_model/_logistic.py:1213: UserWarning: l1_ratio parameter is only used when penalty is 'elasticnet'. Got (penalty=l2)\n",
      "  warnings.warn(\n",
      "/home/epochvpc6/PycharmProjects/WS-twitter/.venv/lib/python3.10/site-packages/sklearn/linear_model/_logistic.py:1213: UserWarning: l1_ratio parameter is only used when penalty is 'elasticnet'. Got (penalty=l2)\n",
      "  warnings.warn(\n",
      "/home/epochvpc6/PycharmProjects/WS-twitter/.venv/lib/python3.10/site-packages/sklearn/linear_model/_logistic.py:1213: UserWarning: l1_ratio parameter is only used when penalty is 'elasticnet'. Got (penalty=l1)\n",
      "  warnings.warn(\n",
      "/home/epochvpc6/PycharmProjects/WS-twitter/.venv/lib/python3.10/site-packages/sklearn/linear_model/_sag.py:348: ConvergenceWarning: The max_iter was reached which means the coef_ did not converge\n",
      "  warnings.warn(\n",
      "/home/epochvpc6/PycharmProjects/WS-twitter/.venv/lib/python3.10/site-packages/sklearn/linear_model/_sag.py:348: ConvergenceWarning: The max_iter was reached which means the coef_ did not converge\n",
      "  warnings.warn(\n",
      "/home/epochvpc6/PycharmProjects/WS-twitter/.venv/lib/python3.10/site-packages/sklearn/linear_model/_logistic.py:1213: UserWarning: l1_ratio parameter is only used when penalty is 'elasticnet'. Got (penalty=l1)\n",
      "  warnings.warn(\n",
      "/home/epochvpc6/PycharmProjects/WS-twitter/.venv/lib/python3.10/site-packages/sklearn/linear_model/_logistic.py:1213: UserWarning: l1_ratio parameter is only used when penalty is 'elasticnet'. Got (penalty=l1)\n",
      "  warnings.warn(\n",
      "/home/epochvpc6/PycharmProjects/WS-twitter/.venv/lib/python3.10/site-packages/sklearn/linear_model/_sag.py:348: ConvergenceWarning: The max_iter was reached which means the coef_ did not converge\n",
      "  warnings.warn(\n",
      "/home/epochvpc6/PycharmProjects/WS-twitter/.venv/lib/python3.10/site-packages/sklearn/linear_model/_logistic.py:1213: UserWarning: l1_ratio parameter is only used when penalty is 'elasticnet'. Got (penalty=l1)\n",
      "  warnings.warn(\n",
      "/home/epochvpc6/PycharmProjects/WS-twitter/.venv/lib/python3.10/site-packages/sklearn/linear_model/_sag.py:348: ConvergenceWarning: The max_iter was reached which means the coef_ did not converge\n",
      "  warnings.warn(\n",
      "/home/epochvpc6/PycharmProjects/WS-twitter/.venv/lib/python3.10/site-packages/sklearn/linear_model/_logistic.py:1213: UserWarning: l1_ratio parameter is only used when penalty is 'elasticnet'. Got (penalty=l1)\n",
      "  warnings.warn(\n",
      "/home/epochvpc6/PycharmProjects/WS-twitter/.venv/lib/python3.10/site-packages/sklearn/linear_model/_logistic.py:1213: UserWarning: l1_ratio parameter is only used when penalty is 'elasticnet'. Got (penalty=l1)\n",
      "  warnings.warn(\n",
      "/home/epochvpc6/PycharmProjects/WS-twitter/.venv/lib/python3.10/site-packages/sklearn/linear_model/_logistic.py:1213: UserWarning: l1_ratio parameter is only used when penalty is 'elasticnet'. Got (penalty=l1)\n",
      "  warnings.warn(\n",
      "/home/epochvpc6/PycharmProjects/WS-twitter/.venv/lib/python3.10/site-packages/sklearn/linear_model/_logistic.py:1213: UserWarning: l1_ratio parameter is only used when penalty is 'elasticnet'. Got (penalty=l1)\n",
      "  warnings.warn(\n",
      "/home/epochvpc6/PycharmProjects/WS-twitter/.venv/lib/python3.10/site-packages/sklearn/linear_model/_logistic.py:1213: UserWarning: l1_ratio parameter is only used when penalty is 'elasticnet'. Got (penalty=l1)\n",
      "  warnings.warn(\n",
      "/home/epochvpc6/PycharmProjects/WS-twitter/.venv/lib/python3.10/site-packages/sklearn/linear_model/_logistic.py:1213: UserWarning: l1_ratio parameter is only used when penalty is 'elasticnet'. Got (penalty=l1)\n",
      "  warnings.warn(\n",
      "/home/epochvpc6/PycharmProjects/WS-twitter/.venv/lib/python3.10/site-packages/sklearn/linear_model/_logistic.py:1213: UserWarning: l1_ratio parameter is only used when penalty is 'elasticnet'. Got (penalty=l1)\n",
      "  warnings.warn(\n",
      "/home/epochvpc6/PycharmProjects/WS-twitter/.venv/lib/python3.10/site-packages/sklearn/linear_model/_logistic.py:1213: UserWarning: l1_ratio parameter is only used when penalty is 'elasticnet'. Got (penalty=l1)\n",
      "  warnings.warn(\n",
      "/home/epochvpc6/PycharmProjects/WS-twitter/.venv/lib/python3.10/site-packages/sklearn/linear_model/_logistic.py:1213: UserWarning: l1_ratio parameter is only used when penalty is 'elasticnet'. Got (penalty=l1)\n",
      "  warnings.warn(\n",
      "/home/epochvpc6/PycharmProjects/WS-twitter/.venv/lib/python3.10/site-packages/sklearn/linear_model/_logistic.py:1213: UserWarning: l1_ratio parameter is only used when penalty is 'elasticnet'. Got (penalty=l1)\n",
      "  warnings.warn(\n",
      "/home/epochvpc6/PycharmProjects/WS-twitter/.venv/lib/python3.10/site-packages/sklearn/linear_model/_logistic.py:1213: UserWarning: l1_ratio parameter is only used when penalty is 'elasticnet'. Got (penalty=l1)\n",
      "  warnings.warn(\n",
      "/home/epochvpc6/PycharmProjects/WS-twitter/.venv/lib/python3.10/site-packages/sklearn/linear_model/_logistic.py:1213: UserWarning: l1_ratio parameter is only used when penalty is 'elasticnet'. Got (penalty=l2)\n",
      "  warnings.warn(\n",
      "/home/epochvpc6/PycharmProjects/WS-twitter/.venv/lib/python3.10/site-packages/sklearn/linear_model/_logistic.py:1213: UserWarning: l1_ratio parameter is only used when penalty is 'elasticnet'. Got (penalty=l2)\n",
      "  warnings.warn(\n",
      "/home/epochvpc6/PycharmProjects/WS-twitter/.venv/lib/python3.10/site-packages/sklearn/linear_model/_logistic.py:1213: UserWarning: l1_ratio parameter is only used when penalty is 'elasticnet'. Got (penalty=l2)\n",
      "  warnings.warn(\n",
      "/home/epochvpc6/PycharmProjects/WS-twitter/.venv/lib/python3.10/site-packages/sklearn/linear_model/_logistic.py:1213: UserWarning: l1_ratio parameter is only used when penalty is 'elasticnet'. Got (penalty=l2)\n",
      "  warnings.warn(\n",
      "/home/epochvpc6/PycharmProjects/WS-twitter/.venv/lib/python3.10/site-packages/sklearn/linear_model/_logistic.py:1213: UserWarning: l1_ratio parameter is only used when penalty is 'elasticnet'. Got (penalty=l2)\n",
      "  warnings.warn(\n",
      "/home/epochvpc6/PycharmProjects/WS-twitter/.venv/lib/python3.10/site-packages/sklearn/linear_model/_logistic.py:1213: UserWarning: l1_ratio parameter is only used when penalty is 'elasticnet'. Got (penalty=l2)\n",
      "  warnings.warn(\n",
      "/home/epochvpc6/PycharmProjects/WS-twitter/.venv/lib/python3.10/site-packages/sklearn/linear_model/_logistic.py:1213: UserWarning: l1_ratio parameter is only used when penalty is 'elasticnet'. Got (penalty=l2)\n",
      "  warnings.warn(\n",
      "/home/epochvpc6/PycharmProjects/WS-twitter/.venv/lib/python3.10/site-packages/sklearn/linear_model/_logistic.py:1213: UserWarning: l1_ratio parameter is only used when penalty is 'elasticnet'. Got (penalty=l2)\n",
      "  warnings.warn(\n",
      "/home/epochvpc6/PycharmProjects/WS-twitter/.venv/lib/python3.10/site-packages/sklearn/linear_model/_logistic.py:1213: UserWarning: l1_ratio parameter is only used when penalty is 'elasticnet'. Got (penalty=l2)\n",
      "  warnings.warn(\n",
      "/home/epochvpc6/PycharmProjects/WS-twitter/.venv/lib/python3.10/site-packages/sklearn/linear_model/_logistic.py:1213: UserWarning: l1_ratio parameter is only used when penalty is 'elasticnet'. Got (penalty=l2)\n",
      "  warnings.warn(\n",
      "/home/epochvpc6/PycharmProjects/WS-twitter/.venv/lib/python3.10/site-packages/sklearn/linear_model/_logistic.py:1213: UserWarning: l1_ratio parameter is only used when penalty is 'elasticnet'. Got (penalty=l2)\n",
      "  warnings.warn(\n",
      "/home/epochvpc6/PycharmProjects/WS-twitter/.venv/lib/python3.10/site-packages/sklearn/linear_model/_logistic.py:1213: UserWarning: l1_ratio parameter is only used when penalty is 'elasticnet'. Got (penalty=l2)\n",
      "  warnings.warn(\n",
      "/home/epochvpc6/PycharmProjects/WS-twitter/.venv/lib/python3.10/site-packages/sklearn/linear_model/_logistic.py:1213: UserWarning: l1_ratio parameter is only used when penalty is 'elasticnet'. Got (penalty=l2)\n",
      "  warnings.warn(\n",
      "/home/epochvpc6/PycharmProjects/WS-twitter/.venv/lib/python3.10/site-packages/sklearn/linear_model/_logistic.py:1213: UserWarning: l1_ratio parameter is only used when penalty is 'elasticnet'. Got (penalty=l2)\n",
      "  warnings.warn(\n",
      "/home/epochvpc6/PycharmProjects/WS-twitter/.venv/lib/python3.10/site-packages/sklearn/linear_model/_logistic.py:1213: UserWarning: l1_ratio parameter is only used when penalty is 'elasticnet'. Got (penalty=l2)\n",
      "  warnings.warn(\n",
      "/home/epochvpc6/PycharmProjects/WS-twitter/.venv/lib/python3.10/site-packages/sklearn/linear_model/_sag.py:348: ConvergenceWarning: The max_iter was reached which means the coef_ did not converge\n",
      "  warnings.warn(\n",
      "/home/epochvpc6/PycharmProjects/WS-twitter/.venv/lib/python3.10/site-packages/sklearn/linear_model/_sag.py:348: ConvergenceWarning: The max_iter was reached which means the coef_ did not converge\n",
      "  warnings.warn(\n",
      "/home/epochvpc6/PycharmProjects/WS-twitter/.venv/lib/python3.10/site-packages/sklearn/linear_model/_logistic.py:1213: UserWarning: l1_ratio parameter is only used when penalty is 'elasticnet'. Got (penalty=l1)\n",
      "  warnings.warn(\n",
      "/home/epochvpc6/PycharmProjects/WS-twitter/.venv/lib/python3.10/site-packages/sklearn/linear_model/_logistic.py:1213: UserWarning: l1_ratio parameter is only used when penalty is 'elasticnet'. Got (penalty=l1)\n",
      "  warnings.warn(\n",
      "/home/epochvpc6/PycharmProjects/WS-twitter/.venv/lib/python3.10/site-packages/sklearn/linear_model/_sag.py:348: ConvergenceWarning: The max_iter was reached which means the coef_ did not converge\n",
      "  warnings.warn(\n",
      "/home/epochvpc6/PycharmProjects/WS-twitter/.venv/lib/python3.10/site-packages/sklearn/linear_model/_logistic.py:1213: UserWarning: l1_ratio parameter is only used when penalty is 'elasticnet'. Got (penalty=l1)\n",
      "  warnings.warn(\n",
      "/home/epochvpc6/PycharmProjects/WS-twitter/.venv/lib/python3.10/site-packages/sklearn/linear_model/_logistic.py:1213: UserWarning: l1_ratio parameter is only used when penalty is 'elasticnet'. Got (penalty=l1)\n",
      "  warnings.warn(\n",
      "/home/epochvpc6/PycharmProjects/WS-twitter/.venv/lib/python3.10/site-packages/sklearn/linear_model/_logistic.py:1213: UserWarning: l1_ratio parameter is only used when penalty is 'elasticnet'. Got (penalty=l1)\n",
      "  warnings.warn(\n",
      "/home/epochvpc6/PycharmProjects/WS-twitter/.venv/lib/python3.10/site-packages/sklearn/linear_model/_logistic.py:1213: UserWarning: l1_ratio parameter is only used when penalty is 'elasticnet'. Got (penalty=l1)\n",
      "  warnings.warn(\n",
      "/home/epochvpc6/PycharmProjects/WS-twitter/.venv/lib/python3.10/site-packages/sklearn/linear_model/_logistic.py:1213: UserWarning: l1_ratio parameter is only used when penalty is 'elasticnet'. Got (penalty=l1)\n",
      "  warnings.warn(\n",
      "/home/epochvpc6/PycharmProjects/WS-twitter/.venv/lib/python3.10/site-packages/sklearn/linear_model/_logistic.py:1213: UserWarning: l1_ratio parameter is only used when penalty is 'elasticnet'. Got (penalty=l1)\n",
      "  warnings.warn(\n",
      "/home/epochvpc6/PycharmProjects/WS-twitter/.venv/lib/python3.10/site-packages/sklearn/linear_model/_sag.py:348: ConvergenceWarning: The max_iter was reached which means the coef_ did not converge\n",
      "  warnings.warn(\n",
      "/home/epochvpc6/PycharmProjects/WS-twitter/.venv/lib/python3.10/site-packages/sklearn/linear_model/_logistic.py:1213: UserWarning: l1_ratio parameter is only used when penalty is 'elasticnet'. Got (penalty=l1)\n",
      "  warnings.warn(\n",
      "/home/epochvpc6/PycharmProjects/WS-twitter/.venv/lib/python3.10/site-packages/sklearn/linear_model/_logistic.py:1213: UserWarning: l1_ratio parameter is only used when penalty is 'elasticnet'. Got (penalty=l1)\n",
      "  warnings.warn(\n",
      "/home/epochvpc6/PycharmProjects/WS-twitter/.venv/lib/python3.10/site-packages/sklearn/linear_model/_sag.py:348: ConvergenceWarning: The max_iter was reached which means the coef_ did not converge\n",
      "  warnings.warn(\n",
      "/home/epochvpc6/PycharmProjects/WS-twitter/.venv/lib/python3.10/site-packages/sklearn/linear_model/_logistic.py:1213: UserWarning: l1_ratio parameter is only used when penalty is 'elasticnet'. Got (penalty=l1)\n",
      "  warnings.warn(\n",
      "/home/epochvpc6/PycharmProjects/WS-twitter/.venv/lib/python3.10/site-packages/sklearn/linear_model/_logistic.py:1213: UserWarning: l1_ratio parameter is only used when penalty is 'elasticnet'. Got (penalty=l1)\n",
      "  warnings.warn(\n",
      "/home/epochvpc6/PycharmProjects/WS-twitter/.venv/lib/python3.10/site-packages/sklearn/linear_model/_sag.py:348: ConvergenceWarning: The max_iter was reached which means the coef_ did not converge\n",
      "  warnings.warn(\n",
      "/home/epochvpc6/PycharmProjects/WS-twitter/.venv/lib/python3.10/site-packages/sklearn/linear_model/_logistic.py:1213: UserWarning: l1_ratio parameter is only used when penalty is 'elasticnet'. Got (penalty=l1)\n",
      "  warnings.warn(\n",
      "/home/epochvpc6/PycharmProjects/WS-twitter/.venv/lib/python3.10/site-packages/sklearn/linear_model/_sag.py:348: ConvergenceWarning: The max_iter was reached which means the coef_ did not converge\n",
      "  warnings.warn(\n",
      "/home/epochvpc6/PycharmProjects/WS-twitter/.venv/lib/python3.10/site-packages/sklearn/linear_model/_logistic.py:1213: UserWarning: l1_ratio parameter is only used when penalty is 'elasticnet'. Got (penalty=l1)\n",
      "  warnings.warn(\n",
      "/home/epochvpc6/PycharmProjects/WS-twitter/.venv/lib/python3.10/site-packages/sklearn/linear_model/_logistic.py:1213: UserWarning: l1_ratio parameter is only used when penalty is 'elasticnet'. Got (penalty=l1)\n",
      "  warnings.warn(\n",
      "/home/epochvpc6/PycharmProjects/WS-twitter/.venv/lib/python3.10/site-packages/sklearn/linear_model/_logistic.py:1213: UserWarning: l1_ratio parameter is only used when penalty is 'elasticnet'. Got (penalty=l2)\n",
      "  warnings.warn(\n",
      "/home/epochvpc6/PycharmProjects/WS-twitter/.venv/lib/python3.10/site-packages/sklearn/linear_model/_logistic.py:1213: UserWarning: l1_ratio parameter is only used when penalty is 'elasticnet'. Got (penalty=l2)\n",
      "  warnings.warn(\n",
      "/home/epochvpc6/PycharmProjects/WS-twitter/.venv/lib/python3.10/site-packages/sklearn/linear_model/_logistic.py:1213: UserWarning: l1_ratio parameter is only used when penalty is 'elasticnet'. Got (penalty=l2)\n",
      "  warnings.warn(\n",
      "/home/epochvpc6/PycharmProjects/WS-twitter/.venv/lib/python3.10/site-packages/sklearn/linear_model/_logistic.py:1213: UserWarning: l1_ratio parameter is only used when penalty is 'elasticnet'. Got (penalty=l2)\n",
      "  warnings.warn(\n",
      "/home/epochvpc6/PycharmProjects/WS-twitter/.venv/lib/python3.10/site-packages/sklearn/linear_model/_sag.py:348: ConvergenceWarning: The max_iter was reached which means the coef_ did not converge\n",
      "  warnings.warn(\n",
      "/home/epochvpc6/PycharmProjects/WS-twitter/.venv/lib/python3.10/site-packages/sklearn/linear_model/_sag.py:348: ConvergenceWarning: The max_iter was reached which means the coef_ did not converge\n",
      "  warnings.warn(\n",
      "/home/epochvpc6/PycharmProjects/WS-twitter/.venv/lib/python3.10/site-packages/sklearn/linear_model/_logistic.py:1213: UserWarning: l1_ratio parameter is only used when penalty is 'elasticnet'. Got (penalty=l2)\n",
      "  warnings.warn(\n",
      "/home/epochvpc6/PycharmProjects/WS-twitter/.venv/lib/python3.10/site-packages/sklearn/linear_model/_logistic.py:1213: UserWarning: l1_ratio parameter is only used when penalty is 'elasticnet'. Got (penalty=l2)\n",
      "  warnings.warn(\n",
      "/home/epochvpc6/PycharmProjects/WS-twitter/.venv/lib/python3.10/site-packages/sklearn/linear_model/_sag.py:348: ConvergenceWarning: The max_iter was reached which means the coef_ did not converge\n",
      "  warnings.warn(\n",
      "/home/epochvpc6/PycharmProjects/WS-twitter/.venv/lib/python3.10/site-packages/sklearn/linear_model/_logistic.py:1213: UserWarning: l1_ratio parameter is only used when penalty is 'elasticnet'. Got (penalty=l2)\n",
      "  warnings.warn(\n",
      "/home/epochvpc6/PycharmProjects/WS-twitter/.venv/lib/python3.10/site-packages/sklearn/linear_model/_logistic.py:1213: UserWarning: l1_ratio parameter is only used when penalty is 'elasticnet'. Got (penalty=l2)\n",
      "  warnings.warn(\n",
      "/home/epochvpc6/PycharmProjects/WS-twitter/.venv/lib/python3.10/site-packages/sklearn/linear_model/_logistic.py:1213: UserWarning: l1_ratio parameter is only used when penalty is 'elasticnet'. Got (penalty=l2)\n",
      "  warnings.warn(\n",
      "/home/epochvpc6/PycharmProjects/WS-twitter/.venv/lib/python3.10/site-packages/sklearn/linear_model/_logistic.py:1213: UserWarning: l1_ratio parameter is only used when penalty is 'elasticnet'. Got (penalty=l2)\n",
      "  warnings.warn(\n",
      "/home/epochvpc6/PycharmProjects/WS-twitter/.venv/lib/python3.10/site-packages/sklearn/linear_model/_logistic.py:1213: UserWarning: l1_ratio parameter is only used when penalty is 'elasticnet'. Got (penalty=l2)\n",
      "  warnings.warn(\n",
      "/home/epochvpc6/PycharmProjects/WS-twitter/.venv/lib/python3.10/site-packages/sklearn/linear_model/_logistic.py:1213: UserWarning: l1_ratio parameter is only used when penalty is 'elasticnet'. Got (penalty=l2)\n",
      "  warnings.warn(\n",
      "/home/epochvpc6/PycharmProjects/WS-twitter/.venv/lib/python3.10/site-packages/sklearn/linear_model/_logistic.py:1213: UserWarning: l1_ratio parameter is only used when penalty is 'elasticnet'. Got (penalty=l2)\n",
      "  warnings.warn(\n",
      "/home/epochvpc6/PycharmProjects/WS-twitter/.venv/lib/python3.10/site-packages/sklearn/linear_model/_logistic.py:1213: UserWarning: l1_ratio parameter is only used when penalty is 'elasticnet'. Got (penalty=l2)\n",
      "  warnings.warn(\n",
      "/home/epochvpc6/PycharmProjects/WS-twitter/.venv/lib/python3.10/site-packages/sklearn/linear_model/_logistic.py:1213: UserWarning: l1_ratio parameter is only used when penalty is 'elasticnet'. Got (penalty=l2)\n",
      "  warnings.warn(\n",
      "/home/epochvpc6/PycharmProjects/WS-twitter/.venv/lib/python3.10/site-packages/sklearn/linear_model/_sag.py:348: ConvergenceWarning: The max_iter was reached which means the coef_ did not converge\n",
      "  warnings.warn(\n",
      "/home/epochvpc6/PycharmProjects/WS-twitter/.venv/lib/python3.10/site-packages/sklearn/linear_model/_sag.py:348: ConvergenceWarning: The max_iter was reached which means the coef_ did not converge\n",
      "  warnings.warn(\n"
     ]
    },
    {
     "name": "stdout",
     "output_type": "stream",
     "text": [
      "\n",
      "--- Logistic Regression Results ---\n",
      "Best Parameters: {'classifier__l1_ratio': np.float64(0.1), 'classifier__max_iter': 1000, 'classifier__penalty': 'elasticnet', 'classifier__solver': 'saga', 'scaler': StandardScaler()}\n",
      "Best Cross-Validation Accuracy (on train set): 0.2844\n",
      "Total Search Time: 50.81 seconds\n",
      "============================================================\n"
     ]
    }
   ],
   "execution_count": 8
  },
  {
   "cell_type": "markdown",
   "source": [
    "#### Random Forest"
   ],
   "metadata": {
    "collapsed": false
   },
   "id": "88a2e19d908a0fe6"
  },
  {
   "cell_type": "code",
   "source": [
    "# --- Random Forest ---\n",
    "pipeline_rf = Pipeline([\n",
    "    ('scaler', 'passthrough'), # RF is not sensitive to feature scaling\n",
    "    ('classifier', RandomForestClassifier(random_state=42, n_jobs=-1))\n",
    "])\n",
    "\n",
    "param_grid_rf = {\n",
    "    # Test a standard number of trees vs. a larger number\n",
    "    'classifier__n_estimators': [100, 300, 500, 1000],\n",
    "\n",
    "    # Test a constrained tree depth vs. a deeper one and a fully grown one\n",
    "    'classifier__max_depth': [10, 20, 40, None],\n",
    "\n",
    "    # Test the two most common strategies for feature selection\n",
    "    'classifier__max_features': ['sqrt', 'log2'],\n",
    "\n",
    "    # Control overfitting by setting a minimum leaf size\n",
    "    'classifier__min_samples_leaf': [1, 2, 4],\n",
    "    \n",
    "    # Check if balancing class weights helps (crucial for imbalanced data)\n",
    "    'classifier__class_weight': [None, 'balanced_subsample']\n",
    "}\n",
    "\n",
    "\n",
    "best_models['Random Forest'], scores['Random Forest'] = run_grid_search(\n",
    "    'Random Forest', pipeline_rf, param_grid_rf, X_train, y_train\n",
    ")"
   ],
   "metadata": {
    "collapsed": false,
    "ExecuteTime": {
     "end_time": "2025-06-20T10:29:00.718901Z",
     "start_time": "2025-06-20T10:25:15.632682Z"
    }
   },
   "id": "73b08b1d01e997b4",
   "outputs": [
    {
     "name": "stdout",
     "output_type": "stream",
     "text": [
      "\n",
      "========== Starting GridSearchCV for: Random Forest ==========\n",
      "Running GridSearchCV for Random Forest using 960 configurations...\n"
     ]
    },
    {
     "data": {
      "text/plain": [
       "Random Forest Grid Search:   0%|          | 0/960 [00:00<?, ?it/s]"
      ],
      "application/vnd.jupyter.widget-view+json": {
       "version_major": 2,
       "version_minor": 0,
       "model_id": "3fccd5996f48477889efb06dcc67adc8"
      }
     },
     "metadata": {},
     "output_type": "display_data"
    },
    {
     "name": "stderr",
     "output_type": "stream",
     "text": [
      "/home/epochvpc6/PycharmProjects/WS-twitter/.venv/lib/python3.10/site-packages/joblib/externals/loky/process_executor.py:782: UserWarning: A worker stopped while some jobs were given to the executor. This can be caused by a too short worker timeout or by a memory leak.\n",
      "  warnings.warn(\n"
     ]
    },
    {
     "name": "stdout",
     "output_type": "stream",
     "text": [
      "\n",
      "--- Random Forest Results ---\n",
      "Best Parameters: {'classifier__class_weight': 'balanced_subsample', 'classifier__max_depth': 20, 'classifier__max_features': 'sqrt', 'classifier__min_samples_leaf': 4, 'classifier__n_estimators': 300}\n",
      "Best Cross-Validation Accuracy (on train set): 0.3204\n",
      "Total Search Time: 225.08 seconds\n",
      "============================================================\n"
     ]
    }
   ],
   "execution_count": 9
  },
  {
   "cell_type": "markdown",
   "source": [
    "#### XGBoost"
   ],
   "metadata": {
    "collapsed": false
   },
   "id": "f4a0a4a9076a8470"
  },
  {
   "cell_type": "code",
   "source": [
    "# --- XGBoost ---\n",
    "pipeline_xgb = Pipeline([\n",
    "    ('scaler', 'passthrough'),\n",
    "    ('classifier', XGBClassifier(objective='multi:softprob', random_state=42))\n",
    "])\n",
    "\n",
    "param_grid_xgb = {\n",
    "    # Number of boosting rounds. Often tuned first with a fixed learning rate.\n",
    "    'classifier__n_estimators': [100, 200, 300, 400],\n",
    "\n",
    "    # Step size shrinkage to prevent overfitting.\n",
    "    'classifier__learning_rate': [0.01, 0.05, 0.1],\n",
    "\n",
    "    # Maximum depth of a tree. Controls model complexity.\n",
    "    'classifier__max_depth': [3, 5, 7],\n",
    "\n",
    "    # L1 regularization term on weights.\n",
    "    'classifier__reg_alpha': [0, 0.1, 1],\n",
    "    \n",
    "    # L2 regularization term on weights.\n",
    "    'classifier__reg_lambda': [0.1, 1, 10],\n",
    "}\n",
    "\n",
    "best_models['XGBoost'], scores['XGBoost'] = run_grid_search(\n",
    "    'XGBoost', pipeline_xgb, param_grid_xgb, X_train, y_train\n",
    ")"
   ],
   "metadata": {
    "collapsed": false,
    "ExecuteTime": {
     "end_time": "2025-06-20T10:53:34.080591Z",
     "start_time": "2025-06-20T10:29:00.760859Z"
    }
   },
   "id": "a354a4d9d81892f1",
   "outputs": [
    {
     "name": "stdout",
     "output_type": "stream",
     "text": [
      "\n",
      "========== Starting GridSearchCV for: XGBoost ==========\n",
      "Running GridSearchCV for XGBoost using 1620 configurations...\n"
     ]
    },
    {
     "data": {
      "text/plain": [
       "XGBoost Grid Search:   0%|          | 0/1620 [00:00<?, ?it/s]"
      ],
      "application/vnd.jupyter.widget-view+json": {
       "version_major": 2,
       "version_minor": 0,
       "model_id": "d98cfe1d7bbb4f35a1b48fd8dc2d7040"
      }
     },
     "metadata": {},
     "output_type": "display_data"
    },
    {
     "name": "stderr",
     "output_type": "stream",
     "text": [
      "/home/epochvpc6/PycharmProjects/WS-twitter/.venv/lib/python3.10/site-packages/joblib/externals/loky/process_executor.py:782: UserWarning: A worker stopped while some jobs were given to the executor. This can be caused by a too short worker timeout or by a memory leak.\n",
      "  warnings.warn(\n"
     ]
    },
    {
     "name": "stdout",
     "output_type": "stream",
     "text": [
      "\n",
      "--- XGBoost Results ---\n",
      "Best Parameters: {'classifier__learning_rate': 0.1, 'classifier__max_depth': 7, 'classifier__n_estimators': 400, 'classifier__reg_alpha': 0, 'classifier__reg_lambda': 1}\n",
      "Best Cross-Validation Accuracy (on train set): 0.3281\n",
      "Total Search Time: 1473.32 seconds\n",
      "============================================================\n"
     ]
    }
   ],
   "execution_count": 10
  },
  {
   "cell_type": "markdown",
   "source": [
    "### SVM"
   ],
   "metadata": {
    "collapsed": false
   },
   "id": "28041141a5dcb0e8"
  },
  {
   "cell_type": "code",
   "source": [
    "# --- D) Support Vector Machine (SVM) ---\n",
    "pipeline_svm = Pipeline([\n",
    "    ('scaler', StandardScaler()),\n",
    "    ('classifier', SVC(random_state=42, probability=True))\n",
    "])\n",
    "\n",
    "param_grid_svm = [\n",
    "    # --- Configuration for the RBF (Radial Basis Function) kernel ---12\n",
    "    {\n",
    "        'scaler': [StandardScaler(), MinMaxScaler()],\n",
    "        'classifier__kernel': ['rbf'],\n",
    "        'classifier__C': np.logspace(-2, 2, 5),      # [0.01, 0.1, 1, 10, 100]\n",
    "        'classifier__gamma': np.logspace(-2, 2, 5),\n",
    "        'classifier__class_weight': [None, 'balanced']\n",
    "    },\n",
    "    \n",
    "    # --- Configuration for the Linear kernel ---\n",
    "    {\n",
    "        'scaler': [StandardScaler(), MinMaxScaler()],\n",
    "        'classifier__kernel': ['linear'],\n",
    "        'classifier__C': np.logspace(-2, 2, 5),\n",
    "        'classifier__class_weight': [None, 'balanced']\n",
    "    },\n",
    "    \n",
    "    # --- Configuration for the Polynomial kernel ---\n",
    "    {\n",
    "        'scaler': [StandardScaler(), MinMaxScaler()],\n",
    "        'classifier__kernel': ['poly'],\n",
    "        'classifier__C': np.logspace(-2, 2, 5),\n",
    "        'classifier__degree': [2, 3, 4],\n",
    "        'classifier__class_weight': [None, 'balanced']\n",
    "    }\n",
    "]\n",
    "\n",
    "best_models['SVM'], scores['SVM'] = run_grid_search(\n",
    "    'SVM', pipeline_svm, param_grid_svm, X_train, y_train\n",
    ")"
   ],
   "metadata": {
    "collapsed": false,
    "ExecuteTime": {
     "end_time": "2025-06-20T11:12:02.394439Z",
     "start_time": "2025-06-20T10:53:34.104370Z"
    }
   },
   "id": "346072ee527d1de6",
   "outputs": [
    {
     "name": "stdout",
     "output_type": "stream",
     "text": [
      "\n",
      "========== Starting GridSearchCV for: SVM ==========\n",
      "Running GridSearchCV for SVM using 900 configurations...\n"
     ]
    },
    {
     "data": {
      "text/plain": [
       "SVM Grid Search:   0%|          | 0/900 [00:00<?, ?it/s]"
      ],
      "application/vnd.jupyter.widget-view+json": {
       "version_major": 2,
       "version_minor": 0,
       "model_id": "335486aac6334a67b24b67539012cb2d"
      }
     },
     "metadata": {},
     "output_type": "display_data"
    },
    {
     "name": "stdout",
     "output_type": "stream",
     "text": [
      "\n",
      "--- SVM Results ---\n",
      "Best Parameters: {'classifier__C': np.float64(100.0), 'classifier__class_weight': None, 'classifier__gamma': np.float64(0.01), 'classifier__kernel': 'rbf', 'scaler': StandardScaler()}\n",
      "Best Cross-Validation Accuracy (on train set): 0.3535\n",
      "Total Search Time: 1108.29 seconds\n",
      "============================================================\n"
     ]
    }
   ],
   "execution_count": 11
  },
  {
   "cell_type": "markdown",
   "source": [
    "#### MLP"
   ],
   "metadata": {
    "collapsed": false
   },
   "id": "5465e753d54e1bae"
  },
  {
   "cell_type": "code",
   "source": [
    "# --- Multi-Layer Perceptron (MLP) ---\n",
    "pipeline_mlp = Pipeline([\n",
    "    ('scaler', StandardScaler()),\n",
    "    ('classifier', MLPClassifier(random_state=42,\n",
    "                                 early_stopping=True, # Enable early stopping\n",
    "                                 n_iter_no_change=10, # How many iterations with no improvement to wait\n",
    "                                 max_iter=1000)) # A higher max_iter for convergence\n",
    "])\n",
    "\n",
    "param_grid_mlp = [\n",
    "    # --- Configuration for the 'adam' solver ---\n",
    "    {\n",
    "        'scaler': [StandardScaler(), MinMaxScaler()],\n",
    "        'classifier__solver': ['adam'],\n",
    "        'classifier__activation': ['relu', 'tanh'],\n",
    "        # Test wider, deeper, and mixed architectures\n",
    "        'classifier__hidden_layer_sizes': [(64,), (128,), (256,), (64, 128), (128, 64), (128, 256), (256, 128), (64, 128, 64), (128, 256, 128)],\n",
    "        'classifier__alpha': [0.0001, 0.001, 0.01], # L2 regularization\n",
    "        'classifier__learning_rate_init': [0.001, 0.01, 0.1]\n",
    "    },\n",
    "    \n",
    "    # --- Configuration for the 'sgd' solver ---\n",
    "    {\n",
    "        'scaler': [StandardScaler(), MinMaxScaler()],\n",
    "        'classifier__solver': ['sgd'],\n",
    "        'classifier__activation': ['relu', 'tanh'],\n",
    "        'classifier__hidden_layer_sizes': [(64,), (128,), (256,), (64, 128), (128, 64), (128, 256), (256, 128), (64, 128, 64), (128, 256, 128)],\n",
    "        'classifier__alpha': [0.0001, 0.001, 0.01],\n",
    "        'classifier__learning_rate': ['constant', 'adaptive'], # Test learning rate schedules\n",
    "        'classifier__learning_rate_init': [0.001, 0.01, 0.1],\n",
    "        'classifier__momentum': [0.9, 0.95, 0.99] # Key parameter for sgd\n",
    "    }\n",
    "]\n",
    "\n",
    "best_models['MLP'], scores['MLP'] = run_grid_search(\n",
    "    'MLP (Neural Network)', pipeline_mlp, param_grid_mlp, X_train, y_train\n",
    ")"
   ],
   "metadata": {
    "collapsed": false,
    "ExecuteTime": {
     "end_time": "2025-06-20T11:27:30.401168Z",
     "start_time": "2025-06-20T11:12:02.413984Z"
    }
   },
   "id": "c17582e57fa2e171",
   "outputs": [
    {
     "name": "stdout",
     "output_type": "stream",
     "text": [
      "\n",
      "========== Starting GridSearchCV for: MLP (Neural Network) ==========\n",
      "Running GridSearchCV for MLP (Neural Network) using 11340 configurations...\n"
     ]
    },
    {
     "data": {
      "text/plain": [
       "MLP (Neural Network) Grid Search:   0%|          | 0/11340 [00:00<?, ?it/s]"
      ],
      "application/vnd.jupyter.widget-view+json": {
       "version_major": 2,
       "version_minor": 0,
       "model_id": "8a1cf3c912b1418ab7160f10685dc787"
      }
     },
     "metadata": {},
     "output_type": "display_data"
    },
    {
     "name": "stdout",
     "output_type": "stream",
     "text": [
      "\n",
      "--- MLP (Neural Network) Results ---\n",
      "Best Parameters: {'classifier__activation': 'relu', 'classifier__alpha': 0.01, 'classifier__hidden_layer_sizes': (256,), 'classifier__learning_rate': 'adaptive', 'classifier__learning_rate_init': 0.1, 'classifier__momentum': 0.9, 'classifier__solver': 'sgd', 'scaler': StandardScaler()}\n",
      "Best Cross-Validation Accuracy (on train set): 0.3545\n",
      "Total Search Time: 927.98 seconds\n",
      "============================================================\n"
     ]
    }
   ],
   "execution_count": 12
  },
  {
   "cell_type": "markdown",
   "source": [
    "### Summary"
   ],
   "metadata": {
    "collapsed": false
   },
   "id": "a91737487c57c393"
  },
  {
   "cell_type": "code",
   "source": [
    "print(\"\\n\\n========== FINAL MODEL COMPARISON SUMMARY ==========\")\n",
    "f1_macro_summary = pd.DataFrame.from_dict(\n",
    "    scores,\n",
    "    orient='index', \n",
    "    columns=['f1-macro']\n",
    ").sort_values(by='f1-macro', ascending=False)\n",
    "\n",
    "print(scores)\n",
    "print(\"=\" * 52)"
   ],
   "metadata": {
    "collapsed": false,
    "ExecuteTime": {
     "end_time": "2025-06-20T12:02:18.486078Z",
     "start_time": "2025-06-20T12:02:18.482452Z"
    }
   },
   "id": "ef402923921f33d8",
   "outputs": [
    {
     "name": "stdout",
     "output_type": "stream",
     "text": [
      "\n",
      "\n",
      "========== FINAL MODEL COMPARISON SUMMARY ==========\n",
      "                     f1-macro\n",
      "MLP                  0.354503\n",
      "SVM                  0.353541\n",
      "XGBoost              0.328089\n",
      "Random Forest        0.320359\n",
      "Logistic Regression  0.284426\n",
      "====================================================\n"
     ]
    }
   ],
   "execution_count": 32
  },
  {
   "cell_type": "markdown",
   "source": [
    "### 4. Evaluating all the models"
   ],
   "metadata": {
    "collapsed": false
   },
   "id": "eb2facd2f379cf4d"
  },
  {
   "cell_type": "code",
   "source": [
    "from matplotlib import pyplot as plt\n",
    "from sklearn.metrics import ConfusionMatrixDisplay\n",
    "import os\n",
    "print(\"========== FINAL MODEL EVALUATION ON TEST SET ==========\")\n",
    "\n",
    "# Store performance metrics for a final summary table\n",
    "final_scores = {}\n",
    "\n",
    "cm_output_dir = '../data/output/cm'\n",
    "os.makedirs(cm_output_dir, exist_ok=True)\n",
    "\n",
    "for model_name, model in best_models.items():\n",
    "    print(f\"\\n--- Test Set Performance for: {model_name} ---\")\n",
    "    \n",
    "    # Get predictions on the test set\n",
    "    y_pred_test = model.predict(X_test)\n",
    "    \n",
    "    # Calculate and store scores\n",
    "    test_accuracy = accuracy_score(y_test, y_pred_test)\n",
    "    test_f1_macro = f1_score(y_test, y_pred_test, average='macro', labels=class_names, zero_division=0)\n",
    "    test_f1_weighted = f1_score(y_test, y_pred_test, average='weighted', labels=class_names, zero_division=0)\n",
    "\n",
    "    final_scores[model_name] = {'Accuracy': test_accuracy, 'F1 Macro': test_f1_macro, 'F1 Weighted': test_f1_weighted}\n",
    "    \n",
    "    # Print Classification Report\n",
    "    print(\"\\nClassification Report:\")\n",
    "    print(classification_report(y_test, y_pred_test, target_names=class_names, zero_division=0))\n",
    "\n",
    "    # Create the ConfusionMatrixDisplay object\n",
    "    disp = ConfusionMatrixDisplay.from_predictions(\n",
    "        y_test,\n",
    "        y_pred_test,\n",
    "        display_labels=class_names,\n",
    "    )\n",
    "    \n",
    "    image_path = os.path.join(cm_output_dir, f\"cm_{model_name.replace(' ', '_').lower()}.png\")\n",
    "    \n",
    "    plt.savefig(image_path, bbox_inches='tight')\n",
    "    print(f\"Confusion Matrix saved to: {image_path}\")\n",
    "    \n",
    "    # 5. Close the plot to prevent it from displaying inline if you don't want it to\n",
    "    plt.close()\n",
    "    print(\"-\" * 55)\n",
    "\n",
    "# --- 5. Final Summary Table ---\n",
    "print(\"=\" * 55)\n",
    "print(\"\\n\\n========== FINAL MODEL PERFORMANCE SUMMARY ==========\")\n",
    "summary_df = pd.DataFrame.from_dict(final_scores, orient='index')\n",
    "summary_df = summary_df.sort_values(by='Accuracy', ascending=False)\n",
    "print(summary_df)\n",
    "print(\"=\" * 55)"
   ],
   "metadata": {
    "collapsed": false,
    "ExecuteTime": {
     "end_time": "2025-06-20T11:56:25.424990Z",
     "start_time": "2025-06-20T11:56:24.677101Z"
    }
   },
   "id": "6e14dc8d276e478e",
   "outputs": [
    {
     "name": "stdout",
     "output_type": "stream",
     "text": [
      "========== FINAL MODEL EVALUATION ON TEST SET ==========\n",
      "\n",
      "--- Test Set Performance for: Logistic Regression ---\n",
      "Test Accuracy: 0.4495\n",
      "F1 Macro Score: 0.2844\n",
      "\n",
      "Classification Report:\n",
      "              precision    recall  f1-score   support\n",
      "\n",
      "           1       0.36      0.20      0.25       101\n",
      "           2       0.48      0.75      0.59       359\n",
      "           3       0.35      0.25      0.29       215\n",
      "           4       0.17      0.03      0.04        40\n",
      "           5       0.48      0.47      0.47       174\n",
      "           6       0.41      0.44      0.42        64\n",
      "           7       0.14      0.08      0.10        13\n",
      "           8       0.57      0.27      0.37        44\n",
      "           9       0.20      0.03      0.06        29\n",
      "\n",
      "    accuracy                           0.45      1039\n",
      "   macro avg       0.35      0.28      0.29      1039\n",
      "weighted avg       0.42      0.45      0.41      1039\n",
      "\n",
      "Confusion Matrix saved to: ../data/output/cm/cm_logistic_regression.png\n",
      "-------------------------------------------------------\n",
      "\n",
      "--- Test Set Performance for: Random Forest ---\n",
      "Test Accuracy: 0.4533\n",
      "F1 Macro Score: 0.3204\n",
      "\n",
      "Classification Report:\n",
      "              precision    recall  f1-score   support\n",
      "\n",
      "           1       0.49      0.29      0.36       101\n",
      "           2       0.55      0.65      0.60       359\n",
      "           3       0.38      0.31      0.34       215\n",
      "           4       0.36      0.12      0.19        40\n",
      "           5       0.42      0.52      0.46       174\n",
      "           6       0.29      0.44      0.35        64\n",
      "           7       0.14      0.08      0.10        13\n",
      "           8       0.39      0.27      0.32        44\n",
      "           9       0.42      0.17      0.24        29\n",
      "\n",
      "    accuracy                           0.45      1039\n",
      "   macro avg       0.38      0.32      0.33      1039\n",
      "weighted avg       0.45      0.45      0.44      1039\n",
      "\n",
      "Confusion Matrix saved to: ../data/output/cm/cm_random_forest.png\n",
      "-------------------------------------------------------\n",
      "\n",
      "--- Test Set Performance for: XGBoost ---\n",
      "Test Accuracy: 0.4832\n",
      "F1 Macro Score: 0.3281\n",
      "\n",
      "Classification Report:\n",
      "              precision    recall  f1-score   support\n",
      "\n",
      "           1       0.55      0.28      0.37       101\n",
      "           2       0.54      0.73      0.62       359\n",
      "           3       0.39      0.41      0.40       215\n",
      "           4       0.25      0.07      0.12        40\n",
      "           5       0.47      0.52      0.49       174\n",
      "           6       0.39      0.27      0.31        64\n",
      "           7       0.33      0.08      0.12        13\n",
      "           8       0.56      0.23      0.32        44\n",
      "           9       0.75      0.10      0.18        29\n",
      "\n",
      "    accuracy                           0.48      1039\n",
      "   macro avg       0.47      0.30      0.33      1039\n",
      "weighted avg       0.48      0.48      0.46      1039\n",
      "\n",
      "Confusion Matrix saved to: ../data/output/cm/cm_xgboost.png\n",
      "-------------------------------------------------------\n",
      "\n",
      "--- Test Set Performance for: SVM ---\n",
      "Test Accuracy: 0.4764\n",
      "F1 Macro Score: 0.3535\n",
      "\n",
      "Classification Report:\n",
      "              precision    recall  f1-score   support\n",
      "\n",
      "           1       0.42      0.36      0.39       101\n",
      "           2       0.54      0.67      0.60       359\n",
      "           3       0.41      0.40      0.40       215\n",
      "           4       0.36      0.20      0.26        40\n",
      "           5       0.46      0.51      0.48       174\n",
      "           6       0.46      0.34      0.39        64\n",
      "           7       0.00      0.00      0.00        13\n",
      "           8       0.44      0.25      0.32        44\n",
      "           9       0.46      0.21      0.29        29\n",
      "\n",
      "    accuracy                           0.48      1039\n",
      "   macro avg       0.39      0.32      0.35      1039\n",
      "weighted avg       0.46      0.48      0.46      1039\n",
      "\n",
      "Confusion Matrix saved to: ../data/output/cm/cm_svm.png\n",
      "-------------------------------------------------------\n",
      "\n",
      "--- Test Set Performance for: MLP ---\n",
      "Test Accuracy: 0.4726\n",
      "F1 Macro Score: 0.3545\n",
      "\n",
      "Classification Report:\n",
      "              precision    recall  f1-score   support\n",
      "\n",
      "           1       0.51      0.29      0.37       101\n",
      "           2       0.55      0.62      0.58       359\n",
      "           3       0.36      0.44      0.39       215\n",
      "           4       0.56      0.12      0.20        40\n",
      "           5       0.46      0.57      0.51       174\n",
      "           6       0.48      0.38      0.42        64\n",
      "           7       0.25      0.08      0.12        13\n",
      "           8       0.56      0.32      0.41        44\n",
      "           9       0.33      0.10      0.16        29\n",
      "\n",
      "    accuracy                           0.47      1039\n",
      "   macro avg       0.45      0.32      0.35      1039\n",
      "weighted avg       0.48      0.47      0.46      1039\n",
      "\n",
      "Confusion Matrix saved to: ../data/output/cm/cm_mlp.png\n",
      "-------------------------------------------------------\n",
      "=======================================================\n",
      "\n",
      "\n",
      "========== FINAL MODEL PERFORMANCE SUMMARY ==========\n",
      "                     Test Accuracy  F1 Macro Score\n",
      "XGBoost                   0.483157        0.328089\n",
      "SVM                       0.476420        0.353541\n",
      "MLP                       0.472570        0.354503\n",
      "Random Forest             0.453321        0.320359\n",
      "Logistic Regression       0.449471        0.284426\n",
      "=======================================================\n"
     ]
    }
   ],
   "execution_count": 30
  },
  {
   "cell_type": "markdown",
   "source": [
    "### 5. Save Models and Scores"
   ],
   "metadata": {
    "collapsed": false
   },
   "id": "3bba510e9f8284ae"
  },
  {
   "cell_type": "code",
   "source": [
    "import os\n",
    "\n",
    "output_dir = '../data/output/models'\n",
    "os.makedirs(output_dir, exist_ok=True)\n",
    "print(f\"Model files will be saved in the '{output_dir}' directory.\")\n",
    "\n",
    "results_for_csv = []\n",
    "\n",
    "for model_name, model_object in best_models.items():\n",
    "    # Create a descriptive filename for the model\n",
    "    # e.g., \"Logistic Regression\" -> \"logistic_regression_model.joblib\"\n",
    "    filename = f\"{model_name.replace(' ', '_').lower()}.joblib\"\n",
    "    filepath = os.path.join(output_dir, filename)\n",
    "    \n",
    "    # a) Save the actual model object to its own file\n",
    "    joblib.dump(model_object, filepath)\n",
    "    print(f\"- Saved '{model_name}' to '{filepath}'\")\n",
    "    \n",
    "    # b) Prepare the data for the CSV row\n",
    "    model_result = {\n",
    "        'Model Name': model_name,\n",
    "        'Accuracy': final_scores[model_name]['Accuracy'],\n",
    "        'F1 Macro': final_scores[model_name]['F1 Macro'],\n",
    "        'F1 Weighted': final_scores[model_name]['F1 Weighted'],\n",
    "        'File Path': filepath\n",
    "    }\n",
    "    results_for_csv.append(model_result)\n",
    "\n",
    "# 3. Create a pandas DataFrame from the results\n",
    "results_df = pd.DataFrame(results_for_csv)\n",
    "\n",
    "csv_output_path = '../data/output/results_summary.csv'\n",
    "results_df.to_csv(csv_output_path, index=False)\n",
    "\n",
    "print(f\"\\nSuccessfully created the summary CSV file at '{csv_output_path}'\")\n",
    "print(\"\\nFinal Summary CSV:\")\n",
    "print(results_df)"
   ],
   "metadata": {
    "collapsed": false,
    "ExecuteTime": {
     "end_time": "2025-06-20T11:56:27.335862Z",
     "start_time": "2025-06-20T11:56:27.215612Z"
    }
   },
   "id": "9215d2f0e34d3e8d",
   "outputs": [
    {
     "name": "stdout",
     "output_type": "stream",
     "text": [
      "Model files will be saved in the '../data/output/models' directory.\n",
      "- Saved 'Logistic Regression' to '../data/output/models/logistic_regression.joblib'\n",
      "- Saved 'Random Forest' to '../data/output/models/random_forest.joblib'\n",
      "- Saved 'XGBoost' to '../data/output/models/xgboost.joblib'\n",
      "- Saved 'SVM' to '../data/output/models/svm.joblib'\n",
      "- Saved 'MLP' to '../data/output/models/mlp.joblib'\n",
      "\n",
      "Successfully created the summary CSV file at '../data/output/results_summary.csv'\n",
      "\n",
      "Final Summary CSV:\n",
      "            Model Name  Test Accuracy  F1 Macro Score  \\\n",
      "0  Logistic Regression       0.449471        0.284426   \n",
      "1        Random Forest       0.453321        0.320359   \n",
      "2              XGBoost       0.483157        0.328089   \n",
      "3                  SVM       0.476420        0.353541   \n",
      "4                  MLP       0.472570        0.354503   \n",
      "\n",
      "                                          File Path  \n",
      "0  ../data/output/models/logistic_regression.joblib  \n",
      "1        ../data/output/models/random_forest.joblib  \n",
      "2              ../data/output/models/xgboost.joblib  \n",
      "3                  ../data/output/models/svm.joblib  \n",
      "4                  ../data/output/models/mlp.joblib  \n"
     ]
    }
   ],
   "execution_count": 31
  }
 ],
 "metadata": {
  "kernelspec": {
   "display_name": "Python 3",
   "language": "python",
   "name": "python3"
  },
  "language_info": {
   "codemirror_mode": {
    "name": "ipython",
    "version": 2
   },
   "file_extension": ".py",
   "mimetype": "text/x-python",
   "name": "python",
   "nbconvert_exporter": "python",
   "pygments_lexer": "ipython2",
   "version": "2.7.6"
  }
 },
 "nbformat": 4,
 "nbformat_minor": 5
}
