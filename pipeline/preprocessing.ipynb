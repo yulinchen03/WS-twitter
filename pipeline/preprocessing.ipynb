{
 "cells": [
  {
   "cell_type": "markdown",
   "source": [
    "# 1. Extract user IDs and occupations"
   ],
   "metadata": {
    "collapsed": false
   },
   "id": "7a855c259b5214fc"
  },
  {
   "cell_type": "code",
   "execution_count": 118,
   "id": "initial_id",
   "metadata": {
    "collapsed": true,
    "ExecuteTime": {
     "end_time": "2025-06-19T18:10:21.930690200Z",
     "start_time": "2025-06-19T18:10:21.892351700Z"
    }
   },
   "outputs": [],
   "source": [
    "import pandas as pd\n",
    "\n",
    "users_path = \"../data/raw/jobs-users\"\n",
    "\n",
    "users_df = pd.read_csv(users_path, sep=' ', header=None, names=['user_id', 'occupation_code'])\n",
    "users_df['occupation_code'] = users_df['occupation_code'].astype(str).str[0].astype(int) # get first digit (major category)"
   ]
  },
  {
   "cell_type": "code",
   "execution_count": 119,
   "outputs": [],
   "source": [
    "categories_path = \"../data/raw/major_categories\"\n",
    "\n",
    "major_categories_df = pd.read_csv(categories_path, sep=':', header=None, names=['occupation_code', 'category'])\n",
    "\n",
    "users_df = pd.merge(users_df, major_categories_df, on='occupation_code', how='left')"
   ],
   "metadata": {
    "collapsed": false,
    "ExecuteTime": {
     "end_time": "2025-06-19T18:10:21.941287800Z",
     "start_time": "2025-06-19T18:10:21.920197Z"
    }
   },
   "id": "23bb133e6f3d62d6"
  },
  {
   "cell_type": "code",
   "execution_count": 120,
   "outputs": [
    {
     "name": "stdout",
     "output_type": "stream",
     "text": [
      "Successfully loaded and processed 5191 users.\n"
     ]
    },
    {
     "data": {
      "text/plain": "      user_id  occupation_code  \\\n0   206749819                3   \n1   706405455                8   \n2   185699053                2   \n3  1134832688                2   \n4    36040783                2   \n\n                                           category  \n0  Associate Professional and Technical Occupations  \n1             Process, Plant and Machine Operatives  \n2                          Professional Occupations  \n3                          Professional Occupations  \n4                          Professional Occupations  ",
      "text/html": "<div>\n<style scoped>\n    .dataframe tbody tr th:only-of-type {\n        vertical-align: middle;\n    }\n\n    .dataframe tbody tr th {\n        vertical-align: top;\n    }\n\n    .dataframe thead th {\n        text-align: right;\n    }\n</style>\n<table border=\"1\" class=\"dataframe\">\n  <thead>\n    <tr style=\"text-align: right;\">\n      <th></th>\n      <th>user_id</th>\n      <th>occupation_code</th>\n      <th>category</th>\n    </tr>\n  </thead>\n  <tbody>\n    <tr>\n      <th>0</th>\n      <td>206749819</td>\n      <td>3</td>\n      <td>Associate Professional and Technical Occupations</td>\n    </tr>\n    <tr>\n      <th>1</th>\n      <td>706405455</td>\n      <td>8</td>\n      <td>Process, Plant and Machine Operatives</td>\n    </tr>\n    <tr>\n      <th>2</th>\n      <td>185699053</td>\n      <td>2</td>\n      <td>Professional Occupations</td>\n    </tr>\n    <tr>\n      <th>3</th>\n      <td>1134832688</td>\n      <td>2</td>\n      <td>Professional Occupations</td>\n    </tr>\n    <tr>\n      <th>4</th>\n      <td>36040783</td>\n      <td>2</td>\n      <td>Professional Occupations</td>\n    </tr>\n  </tbody>\n</table>\n</div>"
     },
     "execution_count": 120,
     "metadata": {},
     "output_type": "execute_result"
    }
   ],
   "source": [
    "print(f\"Successfully loaded and processed {len(users_df)} users.\")\n",
    "users_df.head()"
   ],
   "metadata": {
    "collapsed": false,
    "ExecuteTime": {
     "end_time": "2025-06-19T18:10:21.944204700Z",
     "start_time": "2025-06-19T18:10:21.937135300Z"
    }
   },
   "id": "1839f48bf5e42283"
  },
  {
   "cell_type": "code",
   "execution_count": 121,
   "outputs": [
    {
     "name": "stdout",
     "output_type": "stream",
     "text": [
      "\n",
      "Value counts for each major group:\n",
      "occupation_code\n",
      "2    1794\n",
      "3    1073\n",
      "5     871\n",
      "1     504\n",
      "6     318\n",
      "8     218\n",
      "4     198\n",
      "9     147\n",
      "7      68\n",
      "Name: count, dtype: int64\n"
     ]
    }
   ],
   "source": [
    "print(\"\\nValue counts for each major group:\")\n",
    "print(users_df['occupation_code'].value_counts())"
   ],
   "metadata": {
    "collapsed": false,
    "ExecuteTime": {
     "end_time": "2025-06-19T18:10:21.976215900Z",
     "start_time": "2025-06-19T18:10:21.943167400Z"
    }
   },
   "id": "be342001a96b29a3"
  },
  {
   "cell_type": "markdown",
   "source": [
    "# 2. Load user unigrams"
   ],
   "metadata": {
    "collapsed": false
   },
   "id": "f64ebc8e2bc35695"
  },
  {
   "cell_type": "code",
   "execution_count": 122,
   "outputs": [],
   "source": [
    "def load_dictionary(filepath):\n",
    "    \"\"\"Loads the wordid-word mapping into a dictionary.\"\"\"\n",
    "    print(f\"Loading dictionary from {filepath}...\")\n",
    "    word_dict = {}\n",
    "    with open(filepath, 'r', encoding='utf-8') as f:\n",
    "        for line in f:\n",
    "            parts = line.strip().split()\n",
    "            if len(parts) == 2:\n",
    "                word_dict[parts[0]] = parts[1]\n",
    "    print(f\"Dictionary loaded with {len(word_dict)} words.\")\n",
    "    return word_dict\n",
    "\n",
    "def load_unigrams(filepath):\n",
    "    \"\"\"Loads the user unigrams into a dictionary for fast lookup.\"\"\"\n",
    "    print(f\"Loading user unigrams from {filepath}...\")\n",
    "    unigram_dict = {}\n",
    "    with open(filepath, 'r', encoding='utf-8') as f:\n",
    "        for line in f:\n",
    "            parts = line.strip().split()\n",
    "            if len(parts) > 1:\n",
    "                user_id = parts[0]\n",
    "                # Join the rest of the parts back into a single string\n",
    "                features_str = ' '.join(parts[1:])\n",
    "                unigram_dict[user_id] = features_str\n",
    "    print(f\"Unigrams loaded for {len(unigram_dict)} users.\")\n",
    "    return unigram_dict"
   ],
   "metadata": {
    "collapsed": false,
    "ExecuteTime": {
     "end_time": "2025-06-19T18:10:21.977216600Z",
     "start_time": "2025-06-19T18:10:21.952832900Z"
    }
   },
   "id": "7f683c816853a880"
  },
  {
   "cell_type": "code",
   "execution_count": 123,
   "outputs": [
    {
     "name": "stdout",
     "output_type": "stream",
     "text": [
      "Loading dictionary from ../data/raw/dictionary...\n",
      "Dictionary loaded with 71555 words.\n",
      "Loading user unigrams from ../data/raw/jobs-unigrams...\n",
      "Unigrams loaded for 5189 users.\n"
     ]
    }
   ],
   "source": [
    "# Load the data once\n",
    "word_dictionary = load_dictionary('../data/raw/dictionary')\n",
    "user_unigrams = load_unigrams('../data/raw/jobs-unigrams')"
   ],
   "metadata": {
    "collapsed": false,
    "ExecuteTime": {
     "end_time": "2025-06-19T18:10:23.267834300Z",
     "start_time": "2025-06-19T18:10:21.957242800Z"
    }
   },
   "id": "823751805050bbd3"
  },
  {
   "cell_type": "code",
   "execution_count": 124,
   "outputs": [
    {
     "name": "stdout",
     "output_type": "stream",
     "text": [
      "Loaded 198 stopwords from NLTK.\n"
     ]
    },
    {
     "name": "stderr",
     "output_type": "stream",
     "text": [
      "[nltk_data] Downloading package stopwords to\n",
      "[nltk_data]     C:\\Users\\chena\\AppData\\Roaming\\nltk_data...\n",
      "[nltk_data]   Package stopwords is already up-to-date!\n"
     ]
    }
   ],
   "source": [
    "from nltk.corpus import stopwords\n",
    "import nltk\n",
    "\n",
    "def get_user_word_array(user_id, unigrams, word_dict):\n",
    "    \"\"\"\n",
    "    Creates an aggregated list of words for a user based on frequency.\n",
    "    \"\"\"\n",
    "    # Convert user_id to string to match the dictionary keys\n",
    "    user_id_str = str(user_id)\n",
    "    \n",
    "    # Check if the user has unigram data\n",
    "    if user_id_str not in unigrams:\n",
    "        return [] # Return an empty list if no data for this user\n",
    "\n",
    "    features_str = unigrams[user_id_str]\n",
    "    word_tokens = features_str.split()\n",
    "    \n",
    "    aggregated_words = []\n",
    "    \n",
    "    for token in word_tokens:\n",
    "        try:\n",
    "            word_id, frequency_str = token.split(':')\n",
    "            frequency = int(frequency_str)\n",
    "            \n",
    "            # Look up the word and repeat it 'frequency' times\n",
    "            if word_id in word_dict:\n",
    "                word = word_dict[word_id]\n",
    "                # list.extend() is efficient for adding multiple items\n",
    "                if word.isalpha() and len(word) > 2 and word not in STOPWORDS:\n",
    "                    aggregated_words.extend([word] * frequency)\n",
    "        except ValueError:\n",
    "            # Skip malformed tokens like 'word:freq:extra'\n",
    "            continue\n",
    "            \n",
    "    return aggregated_words\n",
    "\n",
    "nltk.download('stopwords')\n",
    "STOPWORDS = set(stopwords.words('english'))\n",
    "print(f\"Loaded {len(STOPWORDS)} stopwords from NLTK.\")"
   ],
   "metadata": {
    "collapsed": false,
    "ExecuteTime": {
     "end_time": "2025-06-19T18:10:23.402820900Z",
     "start_time": "2025-06-19T18:10:23.257559600Z"
    }
   },
   "id": "3eba87e4a51c96c6"
  },
  {
   "cell_type": "code",
   "execution_count": 125,
   "outputs": [
    {
     "name": "stdout",
     "output_type": "stream",
     "text": [
      "\n",
      "Processing users and creating the aggregated word column...\n"
     ]
    },
    {
     "data": {
      "text/plain": "Processing Users:   0%|          | 0/5191 [00:00<?, ?it/s]",
      "application/vnd.jupyter.widget-view+json": {
       "version_major": 2,
       "version_minor": 0,
       "model_id": "47e5cbfbad77409d9eca77648c58bc24"
      }
     },
     "metadata": {},
     "output_type": "display_data"
    },
    {
     "name": "stdout",
     "output_type": "stream",
     "text": [
      "Processing complete.\n"
     ]
    }
   ],
   "source": [
    "from tqdm.auto import tqdm\n",
    "\n",
    "print(\"\\nProcessing users and creating the aggregated word column...\")\n",
    "\n",
    "tqdm.pandas(desc=\"Processing Users\")\n",
    "\n",
    "# We use .apply() on the 'user_id' column to generate the new data\n",
    "users_df['aggregated_words'] = users_df['user_id'].progress_apply(\n",
    "    lambda uid: get_user_word_array(uid, user_unigrams, word_dictionary)\n",
    ")\n",
    "\n",
    "print(\"Processing complete.\")"
   ],
   "metadata": {
    "collapsed": false,
    "ExecuteTime": {
     "end_time": "2025-06-19T18:10:34.072111700Z",
     "start_time": "2025-06-19T18:10:23.397038900Z"
    }
   },
   "id": "1a9e5b4e4ef60a56"
  },
  {
   "cell_type": "code",
   "execution_count": 126,
   "outputs": [
    {
     "name": "stdout",
     "output_type": "stream",
     "text": [
      "\n",
      "Verifying the updated DataFrame:\n",
      "[list(['able', 'absolute', 'absolutely', 'access', 'access', 'access', 'access', 'access', 'accessed', 'acclaimed', 'account', 'act', 'action', 'addition', 'adjust', 'advantage', 'advertisement', 'advertising', 'advertising', 'advice', 'affiliate', 'affiliate', 'ahead', 'aimlessly', 'allows', 'allows', 'allows', 'allows', 'allows', 'allows', 'already', 'already', 'already', 'also', 'alternative', 'always', 'amazing', 'amazing', 'amazing', 'amazing', 'amazing', 'ammo', 'anded', 'announce', 'another', 'anybody', 'anyone', 'anyone', 'anytime', 'anytime', 'anywhere', 'anywhere', 'anywhere', 'anywhere', 'appointment', 'appropriate', 'area', 'area', 'arrival', 'ask', 'assistance', 'assured', 'available', 'available', 'available', 'available', 'available', 'available', 'available', 'available', 'available', 'available', 'available', 'awaits', 'awaits', 'away', 'awesome', 'back', 'back', 'back', 'backed', 'backed', 'backed', 'backed', 'backing', 'backlit', 'backup', 'backup', 'backup', 'backup', 'backup', 'backup', 'backup', 'backup', 'backup', 'backup', 'backup', 'backup', 'backup', 'backup', 'backup', 'backup', 'backup', 'backup', 'backup', 'backup', 'backup', 'backup', 'backup', 'backups', 'backups', 'backups', 'backups', 'backups', 'backups', 'backups', 'backups', 'backups', 'backups', 'backups', 'backups', 'backups', 'backups', 'bad', 'banking', 'banned', 'banner', 'bar', 'basic', 'bea', 'beat', 'beautiful', 'became', 'beginning', 'belt', 'best', 'best', 'best', 'best', 'betting', 'betting', 'betting', 'bit', 'bit', 'bit', 'blackberry', 'bookmark', 'bookmarking', 'bookmarking', 'box', 'brand', 'bright', 'bright', 'brilliant', 'browse', 'browser', 'buffer', 'build', 'build', 'builder', 'business', 'business', 'business', 'business', 'business', 'business', 'business', 'business', 'business', 'business', 'business', 'business', 'business', 'businesses', 'businesses', 'businesses', 'businesses', 'buy', 'buy', 'buy', 'buying', 'cabin', 'calc', 'call', 'call', 'camcorder', 'camcorder', 'camcorder', 'camera', 'camera', 'cannot', 'capturing', 'car', 'carbon', 'carbon', 'card', 'care', 'carry', 'carry', 'cartridges', 'catastrophic', 'cent', 'center', 'centers', 'centers', 'centers', 'centers', 'centers', 'chair', 'chair', 'changes', 'changes', 'charge', 'charged', 'charm', 'charts', 'cheaper', 'check', 'checkout', 'checkout', 'checkout', 'checkout', 'checkout', 'checkout', 'checkout', 'checkout', 'checkout', 'checkout', 'checkout', 'checkout', 'checkout', 'checkout', 'checkout', 'checkout', 'checkout', 'checkout', 'checkout', 'checkout', 'checkout', 'checkout', 'checkout', 'checkout', 'checkout', 'checkout', 'checkout', 'checkout', 'checkout', 'checkout', 'checkout', 'checkout', 'checkout', 'checkout', 'checkout', 'checkout', 'checkout', 'checkout', 'checkout', 'checkout', 'checkout', 'checkout', 'checkout', 'checkout', 'checkout', 'checkout', 'checkout', 'checkout', 'checkout', 'checkout', 'checkout', 'checkout', 'checkout', 'checkout', 'checkout', 'checkout', 'checkout', 'checkout', 'checkout', 'checkout', 'checkout', 'checkout', 'checkout', 'checkout', 'checkout', 'checkout', 'checkout', 'checkout', 'checkout', 'checkout', 'checkout', 'checkout', 'checkout', 'checkout', 'checkout', 'checkout', 'checkout', 'checkout', 'checkout', 'checkout', 'chills', 'choice', 'choice', 'choice', 'choose', 'cinematic', 'cinematic', 'clearance', 'climbing', 'closer', 'coaching', 'code', 'code', 'code', 'code', 'code', 'code', 'code', 'code', 'code', 'code', 'code', 'code', 'code', 'code', 'code', 'code', 'code', 'code', 'code', 'code', 'code', 'code', 'code', 'code', 'code', 'code', 'code', 'code', 'code', 'code', 'code', 'code', 'code', 'code', 'code', 'code', 'code', 'code', 'code', 'code', 'code', 'code', 'code', 'code', 'code', 'code', 'code', 'code', 'code', 'code', 'code', 'code', 'code', 'code', 'code', 'code', 'code', 'code', 'code', 'code', 'code', 'code', 'code', 'code', 'code', 'code', 'code', 'code', 'code', 'code', 'code', 'code', 'code', 'code', 'code', 'code', 'code', 'code', 'code', 'code', 'colleague', 'color', 'com', 'com', 'combines', 'comes', 'comes', 'comes', 'comes', 'comes', 'comes', 'comment', 'comment', 'comments', 'commissions', 'companies', 'complete', 'complete', 'complete', 'complete', 'complete', 'compliance', 'compliant', 'compliant', 'compliant', 'component', 'comps', 'computer', 'computer', 'computer', 'computer', 'computer', 'computer', 'computer', 'computer', 'computer', 'computer', 'computer', 'computer', 'computer', 'computer', 'computer', 'computer', 'computer', 'computers', 'computers', 'computers', 'computing', 'computing', 'computing', 'computing', 'computing', 'computing', 'computing', 'computing', 'computing', 'computing', 'computing', 'computing', 'computing', 'computing', 'computing', 'concerns', 'confidential', 'config', 'configuration', 'configuration', 'configure', 'consist', 'consistently', 'consistently', 'consisting', 'consult', 'contains', 'contains', 'continue', 'convenient', 'convenient', 'convertible', 'conveyor', 'cores', 'corners', 'corruption', 'corruption', 'corruption', 'coupon', 'coupon', 'coupon', 'coupon', 'coupon', 'coupon', 'coupon', 'coupon', 'coupon', 'coupon', 'coupon', 'coupon', 'coupon', 'coupon', 'coupon', 'coupon', 'coupon', 'coupon', 'coupon', 'coupon', 'coupon', 'coupon', 'coupon', 'coupon', 'coupon', 'coupon', 'coupon', 'coupon', 'coupon', 'coupon', 'coupon', 'coupon', 'coupon', 'coupon', 'coupon', 'coupon', 'coupon', 'coupon', 'coupon', 'coupon', 'coupon', 'coupon', 'coupon', 'coupon', 'coupon', 'coupon', 'coupon', 'coupon', 'coupon', 'coupon', 'coupon', 'coupon', 'coupon', 'coupon', 'coupon', 'coupon', 'coupon', 'coupon', 'coupon', 'coupon', 'coupon', 'coupon', 'coupon', 'coupon', 'coupon', 'coupon', 'coupon', 'coupon', 'coupon', 'coupon', 'coupon', 'coupon', 'coupon', 'coupon', 'coupon', 'coupon', 'coupon', 'coupon', 'coupon', 'coupon', 'coupon', 'coupon', 'coupon', 'coupon', 'coupon', 'coupon', 'coupon', 'coupon', 'coupon', 'coupon', 'coupon', 'coupon', 'coupon', 'coupon', 'coupon', 'coupon', 'coupon', 'coupon', 'coupon', 'coupon', 'coupon', 'coupon', 'coupon', 'coupon', 'coupon', 'coupon', 'coupon', 'coupon', 'coupon', 'coupon', 'coupon', 'coupon', 'coupon', 'coupon', 'coupon', 'coupon', 'coupon', 'coupon', 'coupon', 'coupon', 'coupon', 'coupon', 'coupon', 'coupon', 'coupon', 'coupon', 'coupon', 'coupon', 'coupon', 'coupon', 'coupon', 'coupon', 'coupon', 'coupon', 'coupon', 'coupon', 'coupon', 'coupon', 'coupon', 'coupon', 'coupon', 'coupon', 'coupon', 'coupon', 'coupon', 'coupon', 'coupon', 'coupon', 'coupon', 'coupon', 'coupon', 'coupon', 'coupon', 'coupon', 'coupon', 'coupon', 'coupon', 'coupon', 'coupon', 'coupon', 'coupon', 'coupon', 'coupon', 'coupon', 'coupon', 'coupon', 'coupon', 'coupon', 'coupon', 'coupon', 'coupon', 'coupon', 'coupon', 'coupon', 'coupon', 'coupon', 'coupon', 'coupon', 'coupon', 'coupon', 'coupon', 'coupon', 'coupon', 'coupon', 'coupon', 'coupon', 'coupon', 'coupon', 'coupon', 'coupon', 'coupon', 'coupon', 'coupon', 'coupon', 'coupon', 'coupon', 'coupon', 'coupon', 'coupon', 'coupon', 'coupon', 'coupon', 'coupon', 'coupon', 'coupon', 'coupon', 'coupon', 'coupon', 'coupon', 'coupon', 'coupon', 'coupon', 'coupon', 'coupon', 'coupon', 'coupon', 'coupon', 'coupon', 'coupon', 'coupon', 'coupon', 'coupon', 'coupon', 'coupon', 'coupon', 'coupon', 'coupon', 'coupon', 'coupon', 'coupon', 'coupon', 'coupon', 'coupon', 'coupon', 'coupon', 'coupon', 'coupon', 'coupon', 'create', 'created', 'created', 'creative', 'credits', 'crew', 'crew', 'crew', 'crisis', 'critical', 'critical', 'cruise', 'cup', 'curious', 'currently', 'currently', 'currently', 'curtain', 'curtain', 'customers', 'customers', 'customers', 'customers', 'customers', 'customizable', 'cut', 'daily', 'daily', 'daily', 'daily', 'daily', 'daily', 'daily', 'daily', 'daily', 'daily', 'data', 'data', 'data', 'data', 'data', 'data', 'data', 'data', 'data', 'data', 'data', 'data', 'data', 'data', 'data', 'data', 'data', 'data', 'data', 'data', 'data', 'data', 'data', 'data', 'data', 'data', 'data', 'data', 'data', 'data', 'data', 'data', 'data', 'data', 'data', 'data', 'data', 'database', 'database', 'database', 'databases', 'dates', 'day', 'day', 'day', 'day', 'days', 'days', 'days', 'days', 'days', 'deal', 'deals', 'deals', 'deals', 'deals', 'decision', 'deep', 'degree', 'degree', 'deliver', 'deliver', 'delivers', 'delivers', 'delivers', 'delivers', 'delivers', 'delivers', 'delivers', 'delivers', 'delivers', 'delivers', 'delivers', 'delivers', 'delta', 'demonstration', 'descriptions', 'design', 'designed', 'designed', 'desk', 'desk', 'desktop', 'desktop', 'desktop', 'desktop', 'desktop', 'desktop', 'desktop', 'desktop', 'details', 'determine', 'determine', 'developer', 'device', 'device', 'device', 'device', 'diagonal', 'diagonal', 'difficult', 'digital', 'digital', 'discusses', 'discussion', 'dislikes', 'display', 'disposing', 'docs', 'docs', 'doctors', 'document', 'documents', 'done', 'double', 'double', 'download', 'download', 'downloaded', 'dramatic', 'dramatic', 'dramatically', 'dress', 'drive', 'driven', 'drives', 'drives', 'drives', 'drives', 'drives', 'drives', 'drives', 'dual', 'dual', 'dual', 'dual', 'dual', 'dual', 'dual', 'dual', 'dual', 'dual', 'due', 'early', 'earn', 'earn', 'earning', 'ease', 'ease', 'ease', 'ease', 'easiest', 'easily', 'easily', 'easily', 'easily', 'easy', 'easy', 'edge', 'eight', 'either', 'either', 'electronic', 'electronic', 'electronic', 'electronics', 'eliminate', 'eliminate', 'email', 'email', 'email', 'email', 'emails', 'emulate', 'encrypted', 'encrypted', 'encryption', 'encryption', 'end', 'ends', 'ends', 'ends', 'ends', 'ends', 'ends', 'ends', 'ends', 'ends', 'ends', 'ends', 'ends', 'ends', 'ends', 'ends', 'ends', 'ends', 'ends', 'ends', 'ends', 'ends', 'ends', 'ends', 'ends', 'ends', 'ends', 'ends', 'ends', 'ends', 'ends', 'ends', 'ends', 'ends', 'ends', 'ends', 'ends', 'ends', 'ends', 'ends', 'ends', 'ends', 'ends', 'ends', 'ends', 'ends', 'ends', 'ends', 'ends', 'ends', 'ends', 'ends', 'ends', 'ends', 'ends', 'ends', 'ends', 'ends', 'ends', 'ends', 'ends', 'ends', 'ends', 'ends', 'ends', 'ends', 'ends', 'ends', 'ends', 'ends', 'ends', 'ends', 'ends', 'ends', 'ends', 'ends', 'ends', 'ends', 'ends', 'ends', 'ends', 'enjoy', 'enjoy', 'enough', 'enough', 'ensures', 'ensures', 'ensures', 'entertain', 'entertain', 'entertainment', 'entertainment', 'entertainment', 'entire', 'entrepreneurs', 'entrepreneurs', 'environmentally', 'equip', 'equipped', 'equipped', 'equipped', 'equipped', 'equipped', 'equipped', 'equipped', 'equipped', 'equipped', 'equipped', 'equipped', 'era', 'erience', 'erience', 'erience', 'erience', 'erienced', 'erienced', 'errors', 'etc', 'even', 'even', 'even', 'eventually', 'ever', 'ever', 'ever', 'ever', 'ever', 'every', 'every', 'everyday', 'everyday', 'everyone', 'everyone', 'everything', 'evey', 'excellent', 'excellent', 'excels', 'exciting', 'exciting', 'exciting', 'execute', 'eye', 'eyes', 'eyes', 'facilities', 'facilities', 'failure', 'failure', 'families', 'family', 'family', 'family', 'fans', 'far', 'farewell', 'fast', 'fast', 'fast', 'fast', 'faster', 'faster', 'fastest', 'favorite', 'favorite', 'feature', 'feature', 'feature', 'featured', 'featured', 'featured', 'features', 'features', 'features', 'features', 'features', 'featuring', 'feed', 'feed', 'feed', 'feed', 'feeds', 'feeds', 'feeds', 'feeds', 'feeds', 'figures', 'file', 'file', 'file', 'file', 'file', 'file', 'file', 'files', 'files', 'files', 'files', 'files', 'files', 'files', 'files', 'files', 'files', 'files', 'files', 'files', 'files', 'files', 'finally', 'find', 'find', 'find', 'fine', 'fine', 'fine', 'finish', 'finish', 'finish', 'firms', 'firms', 'first', 'first', 'first', 'first', 'fix', 'flash', 'flash', 'folder', 'folders', 'follow', 'following', 'footprint', 'footprint', 'forget', 'forum', 'found', 'freak', 'free', 'free', 'free', 'free', 'free', 'free', 'free', 'free', 'free', 'free', 'frequency', 'friend', 'friend', 'friendly', 'friends', 'full', 'full', 'fully', 'fully', 'fully', 'fully', 'gadget', 'gadgets', 'game', 'game', 'game', 'game', 'games', 'games', 'games', 'gaming', 'gaming', 'gaming', 'gaming', 'gaming', 'gaming', 'gaming', 'gaming', 'gaming', 'gaming', 'garden', 'geek', 'gen', 'gen', 'gen', 'generate', 'generation', 'generation', 'generation', 'generation', 'get', 'get', 'get', 'get', 'get', 'get', 'get', 'gig', 'gigs', 'give', 'give', 'gives', 'gives', 'gives', 'gives', 'gives', 'giving', 'glad', 'global', 'glory', 'going', 'golden', 'goo', 'goo', 'graphics', 'gray', 'great', 'group', 'group', 'group', 'guarantee', 'hacked', 'handle', 'happen', 'hard', 'hard', 'hard', 'hard', 'hard', 'hard', 'hard', 'hardware', 'hardware', 'hardware', 'hear', 'hel', 'help', 'help', 'help', 'help', 'help', 'helped', 'hesitate', 'high', 'high', 'high', 'high', 'highly', 'highly', 'histories', 'hobby', 'holds', 'home', 'home', 'home', 'hooked', 'hosting', 'hour', 'hourly', 'hours', 'hunters', 'hurt', 'hype', 'identification', 'image', 'imaginable', 'immediately', 'immediately', 'imminent', 'impact', 'impact', 'important', 'important', 'important', 'impressive', 'impressive', 'impressive', 'impressive', 'incorporates', 'incorrectly', 'increase', 'increase', 'incred', 'industries', 'industry', 'industry', 'inevitable', 'infancy', 'influence', 'information', 'install', 'install', 'install', 'install', 'install', 'install', 'installation', 'installation', 'installation', 'instance', 'insurance', 'int', 'integrity', 'intelligent', 'interested', 'interested', 'international', 'internationally', 'internet', 'internet', 'internet', 'internet', 'intro', 'intuitive', 'intuitive', 'intuitive', 'iphone', 'ire', 'issues', 'issues', 'job', 'joining', 'joining', 'joining', 'judge', 'keep', 'keep', 'keep', 'keep', 'keep', 'keep', 'keep', 'keep', 'key', 'keys', 'kids', 'know', 'know', 'know', 'know', 'lag', 'laptop', 'laptop', 'laptop', 'laptop', 'laptop', 'laptop', 'laptop', 'laptop', 'laptop', 'laptop', 'laptop', 'laptop', 'laptop', 'laptop', 'laptop', 'largest', 'laser', 'laser', 'last', 'last', 'late', 'latest', 'latest', 'law', 'law', 'learn', 'legal', 'let', 'lets', 'lets', 'lets', 'lets', 'lets', 'levels', 'levels', 'licences', 'license', 'like', 'like', 'like', 'like', 'like', 'like', 'like', 'like', 'like', 'like', 'likes', 'limited', 'limited', 'limited', 'link', 'links', 'links', 'links', 'links', 'list', 'list', 'list', 'list', 'live', 'lived', 'located', 'locations', 'lode', 'long', 'longer', 'longer', 'looked', 'looked', 'looking', 'looking', 'looking', 'lorer', 'lorer', 'losing', 'losing', 'losions', 'loss', 'loss', 'loss', 'loss', 'machine', 'machine', 'machine', 'mad', 'made', 'maintenance', 'make', 'makes', 'making', 'manage', 'managed', 'mandatory', 'many', 'many', 'many', 'market', 'marketing', 'marketing', 'mayhem', 'mayhem', 'mean', 'means', 'media', 'medical', 'medical', 'medical', 'medical', 'mediocre', 'medium', 'members', 'members', 'members', 'membership', 'memory', 'messed', 'metering', 'method', 'middle', 'military', 'million', 'mine', 'minimize', 'minutes', 'missed', 'missing', 'mobil', 'mobile', 'mobile', 'mobile', 'mobile', 'mobile', 'mobile', 'mobile', 'mobile', 'mobile', 'mobile', 'modify', 'mold', 'money', 'money', 'money', 'monitor', 'monitor', 'monitor', 'monthly', 'monthly', 'months', 'mood', 'mounting', 'mouse', 'move', 'moved', 'movie', 'movie', 'movie', 'much', 'much', 'multimedia', 'multimedia', 'multimedia', 'multimedia', 'name', 'named', 'nationally', 'natural', 'natural', 'necessity', 'need', 'need', 'need', 'need', 'need', 'need', 'need', 'need', 'need', 'need', 'needs', 'needs', 'never', 'never', 'never', 'new', 'new', 'new', 'new', 'new', 'new', 'new', 'new', 'new', 'new', 'new', 'new', 'new', 'new', 'news', 'next', 'note', 'note', 'notebook', 'notebook', 'notebook', 'notebook', 'notebook', 'notebook', 'notebook', 'notebook', 'notebook', 'notebook', 'notebook', 'notebook', 'notebook', 'noticed', 'notifications', 'notifications', 'occur', 'ocean', 'offer', 'offered', 'offering', 'offers', 'offers', 'offers', 'offers', 'offers', 'offers', 'offers', 'offers', 'office', 'offsite', 'offsite', 'offsite', 'offsite', 'offsite', 'offsite', 'offsite', 'offsite', 'offsite', 'offsite', 'offsite', 'offsite', 'offsite', 'offsite', 'often', 'old', 'one', 'one', 'one', 'one', 'one', 'online', 'online', 'online', 'online', 'online', 'online', 'online', 'online', 'open', 'opening', 'operation', 'operations', 'opinion', 'optimal', 'optimal', 'optimal', 'optimal', 'organization', 'output', 'output', 'outstanding', 'outstanding', 'outstanding', 'overseas', 'overseas', 'owner', 'owners', 'packs', 'packs', 'page', 'page', 'page', 'page', 'page', 'page', 'page', 'pages', 'paid', 'pants', 'pants', 'part', 'partnered', 'party', 'party', 'party', 'passwords', 'passwords', 'passwords', 'past', 'patented', 'patient', 'patient', 'patient', 'patient', 'patient', 'pay', 'pay', 'pay', 'pay', 'peak', 'per', 'perf', 'perfect', 'perfect', 'perfect', 'perfect', 'perfection', 'perfection', 'perfection', 'perfection', 'perform', 'perform', 'performance', 'performance', 'performance', 'performance', 'performance', 'performance', 'performance', 'performance', 'performance', 'performance', 'performance', 'performance', 'performance', 'performance', 'performs', 'performs', 'performs', 'phone', 'photo', 'pick', 'picnic', 'picnic', 'picnic', 'pictures', 'pictures', 'pictures', 'pit', 'place', 'place', 'place', 'plan', 'plans', 'plans', 'plans', 'plans', 'plant', 'play', 'playback', 'please', 'please', 'please', 'please', 'please', 'please', 'policy', 'portable', 'portable', 'portable', 'portable', 'portable', 'portable', 'portable', 'portable', 'portable', 'portal', 'portal', 'post', 'posted', 'posts', 'potent', 'potent', 'pow', 'power', 'power', 'power', 'powered', 'powered', 'powered', 'powered', 'powered', 'powered', 'powered', 'powered', 'powered', 'powerful', 'powerful', 'powerful', 'powerful', 'powerful', 'powerful', 'powerful', 'powerful', 'powerful', 'powerful', 'powerful', 'powerfully', 'powerhouse', 'powerhouse', 'powerhouse', 'present', 'present', 'presentation', 'presentation', 'presentation', 'price', 'printer', 'printer', 'pro', 'pro', 'process', 'process', 'process', 'processing', 'processing', 'processor', 'processor', 'processor', 'prod', 'product', 'product', 'product', 'product', 'product', 'productive', 'products', 'products', 'professionals', 'profile', 'profile', 'program', 'program', 'promotions', 'properly', 'properly', 'protect', 'protection', 'provide', 'provide', 'provide', 'provide', 'provide', 'provided', 'provided', 'provides', 'provides', 'provides', 'provides', 'provides', 'provides', 'provides', 'provides', 'providing', 'prowess', 'proxy', 'proxy', 'punch', 'punch', 'punch', 'punch', 'purchased', 'purchased', 'purchases', 'put', 'quali', 'quality', 'quality', 'quality', 'questions', 'questions', 'quicker', 'rain', 'range', 'rapper', 'rated', 'read', 'read', 'ready', 'real', 'receive', 'recent', 'recipients', 'recommend', 'recommended', 'recommended', 'record', 'records', 'records', 'records', 'recycle', 'red', 'reduce', 'redundant', 'redundant', 'redundant', 'regarding', 'regular', 'reigning', 'reigning', 'reigning', 'release', 'released', 'released', 'releases', 'reliability', 'reliable', 'remaining', 'remind', 'remotely', 'rental', 'rentals', 'repair', 'repair', 'repair', 'repair', 'repair', 'repairing', 'repairs', 'repairs', 'report', 'report', 'requests', 'required', 'residents', 'resolve', 'resources', 'ress', 'ression', 'ression', 'resso', 'restoration', 'restoring', 'returned', 'revolutionary', 'rich', 'rich', 'right', 'right', 'roof', 'round', 'rounds', 'run', 'run', 'run', 'run', 'running', 'running', 'running', 'running', 'running', 'running', 'runs', 'sale', 'sales', 'save', 'saving', 'savings', 'savings', 'savings', 'say', 'saying', 'scan', 'scanner', 'scanner', 'scanner', 'schedule', 'schedule', 'script', 'seamless', 'seamless', 'search', 'search', 'searching', 'secure', 'secure', 'secure', 'see', 'see', 'seeing', 'seen', 'selection', 'send', 'sending', 'sense', 'sense', 'sensor', 'separate', 'service', 'service', 'service', 'service', 'services', 'services', 'set', 'set', 'set', 'set', 'set', 'set', 'sets', 'sets', 'sets', 'settings', 'shake', 'shake', 'share', 'share', 'share', 'share', 'shared', 'sharing', 'shiny', 'shipping', 'shocked', 'shocking', 'shocking', 'shocks', 'shoot', 'shooting', 'shop', 'shortening', 'show', 'show', 'show', 'showcases', 'sick', 'sign', 'sign', 'signing', 'simple', 'simple', 'simple', 'simple', 'simple', 'simply', 'simply', 'simply', 'site', 'site', 'site', 'site', 'size', 'size', 'size', 'size', 'sizes', 'slim', 'slim', 'slowly', 'small', 'small', 'smart', 'smart', 'smooth', 'smooth', 'smooth', 'smooth', 'smooth', 'smooth', 'smooth', 'smooth', 'smooth', 'smooth', 'smooth', 'smoother', 'software', 'software', 'software', 'software', 'software', 'software', 'software', 'solution', 'solution', 'solution', 'solution', 'solution', 'solution', 'solution', 'solution', 'solving', 'something', 'something', 'soon', 'soon', 'soon', 'sort', 'specifications', 'spectacular', 'speed', 'spend', 'spine', 'standard', 'standards', 'stands', 'start', 'start', 'start', 'state', 'storage', 'storage', 'stories', 'stories', 'storing', 'story', 'strategies', 'sty', 'style', 'style', 'stylish', 'subscribe', 'subscribe', 'subscribe', 'subscribe', 'subscribed', 'success', 'success', 'success', 'success', 'sucks', 'sun', 'superb', 'superb', 'superb', 'superb', 'superior', 'superior', 'superior', 'superior', 'superior', 'superior', 'superior', 'superior', 'support', 'support', 'support', 'support', 'support', 'supported', 'supported', 'sure', 'sweet', 'sync', 'system', 'system', 'system', 'systems', 'tablet', 'tablet', 'take', 'taken', 'takes', 'takes', 'takes', 'taskbar', 'tasks', 'tasks', 'teaches', 'tech', 'tech', 'technical', 'technological', 'technology', 'technology', 'technology', 'technology', 'technology', 'telling', 'ten', 'thermal', 'thermal', 'thick', 'thing', 'things', 'think', 'think', 'thorough', 'thought', 'thrill', 'throu', 'ticket', 'time', 'time', 'time', 'time', 'time', 'time', 'time', 'time', 'time', 'tips', 'tips', 'tips', 'title', 'titles', 'today', 'today', 'today', 'tomorrow', 'tomorrow', 'ton', 'toner', 'tonight', 'tool', 'tool', 'tool', 'tool', 'tool', 'tool', 'top', 'top', 'traffic', 'traffic', 'training', 'training', 'transition', 'transition', 'transition', 'transmission', 'trial', 'tricks', 'tricks', 'tricks', 'tried', 'true', 'true', 'true', 'truths', 'tuned', 'tuned', 'tuning', 'tweet', 'two', 'two', 'two', 'type', 'types', 'ultra', 'ultra', 'understand', 'understand', 'unlimited', 'unlimited', 'unlimited', 'unlimited', 'unlimited', 'unstable', 'upcoming', 'update', 'updated', 'updates', 'updates', 'updates', 'updates', 'upgrade', 'upgrade', 'upgrade', 'upgrading', 'use', 'use', 'use', 'use', 'use', 'user', 'users', 'using', 'utilize', 'version', 'via', 'via', 'via', 'via', 'via', 'via', 'video', 'video', 'video', 'video', 'video', 'video', 'video', 'video', 'view', 'viewed', 'viewing', 'viewing', 'viewing', 'viewing', 'visit', 'visit', 'visit', 'visiting', 'visiting', 'vote', 'vulnerability', 'vulnerability', 'wager', 'waiting', 'want', 'want', 'want', 'wanted', 'wanted', 'wasting', 'watch', 'watch', 'watch', 'watch', 'waterproof', 'wave', 'way', 'way', 'way', 'way', 'way', 'web', 'web', 'web', 'webinar', 'webinar', 'webinar', 'webinar', 'website', 'website', 'website', 'website', 'website', 'website', 'website', 'website', 'weeks', 'went', 'white', 'wide', 'wide', 'widescreen', 'willing', 'willing', 'windows', 'wit', 'wit', 'without', 'without', 'without', 'wonder', 'wonder', 'wondering', 'wor', 'wor', 'wor', 'word', 'work', 'work', 'work', 'work', 'work', 'working', 'works', 'works', 'works', 'workstation', 'world', 'world', 'world', 'world', 'world', 'world', 'world', 'worries', 'worry', 'worry', 'worry', 'wow', 'year', 'year', 'year', 'youself', 'zone', 'zone', 'zone', 'zone', 'zoom'])]\n"
     ]
    }
   ],
   "source": [
    "print(\"\\nVerifying the updated DataFrame:\")\n",
    "print(users_df[users_df['user_id'] == 206749819]['aggregated_words'].values)"
   ],
   "metadata": {
    "collapsed": false,
    "ExecuteTime": {
     "end_time": "2025-06-19T18:10:34.087303600Z",
     "start_time": "2025-06-19T18:10:34.065927100Z"
    }
   },
   "id": "a2a2af535dac63f"
  },
  {
   "cell_type": "code",
   "execution_count": 127,
   "outputs": [
    {
     "name": "stdout",
     "output_type": "stream",
     "text": [
      "\n",
      "--- for user 206749819 ---\n",
      "Total words: 2361\n",
      "Unique words: 865\n"
     ]
    }
   ],
   "source": [
    "# Let's inspect a specific user's result\n",
    "print(\"\\n--- for user 206749819 ---\")\n",
    "example_words = users_df[users_df['user_id'] == 206749819]['aggregated_words'].values[0]\n",
    "print(f\"Total words: {len(example_words)}\") \n",
    "print(f\"Unique words: {len(set(example_words))}\")"
   ],
   "metadata": {
    "collapsed": false,
    "ExecuteTime": {
     "end_time": "2025-06-19T18:10:34.088407500Z",
     "start_time": "2025-06-19T18:10:34.069106200Z"
    }
   },
   "id": "4665f192f4f262b3"
  },
  {
   "cell_type": "markdown",
   "source": [
    "# 3. Split the dataset at user level\n"
   ],
   "metadata": {
    "collapsed": false
   },
   "id": "8d632caf4595b099"
  },
  {
   "cell_type": "code",
   "execution_count": 128,
   "outputs": [
    {
     "name": "stdout",
     "output_type": "stream",
     "text": [
      "\n",
      "Training set class distribution:\n",
      "occupation_code\n",
      "2    1435\n",
      "3     858\n",
      "5     697\n",
      "1     403\n",
      "6     254\n",
      "8     174\n",
      "4     158\n",
      "9     118\n",
      "7      55\n",
      "Name: count, dtype: int64\n",
      "\n",
      "Test set class distribution:\n",
      "occupation_code\n",
      "2    359\n",
      "3    215\n",
      "5    174\n",
      "1    101\n",
      "6     64\n",
      "8     44\n",
      "4     40\n",
      "9     29\n",
      "7     13\n",
      "Name: count, dtype: int64\n"
     ]
    }
   ],
   "source": [
    "from sklearn.model_selection import train_test_split\n",
    "\n",
    "X = users_df[['user_id']]\n",
    "y = users_df['occupation_code']\n",
    "\n",
    "# First split: 70% train, 30% temp (for validation and test)\n",
    "train_df, test_df, y_train, y_test = train_test_split(\n",
    "    users_df, y, test_size=0.2, random_state=42, stratify=y\n",
    ")\n",
    "\n",
    "print(f\"\\nTraining set class distribution:\")\n",
    "print(train_df['occupation_code'].value_counts())\n",
    "print(f\"\\nTest set class distribution:\")\n",
    "print(test_df['occupation_code'].value_counts())"
   ],
   "metadata": {
    "collapsed": false,
    "ExecuteTime": {
     "end_time": "2025-06-19T18:10:34.487451800Z",
     "start_time": "2025-06-19T18:10:34.086302100Z"
    }
   },
   "id": "4e42af731551c347"
  },
  {
   "cell_type": "code",
   "execution_count": 129,
   "outputs": [
    {
     "name": "stdout",
     "output_type": "stream",
     "text": [
      "\n",
      "Final training set size: (4152, 4)\n",
      "Final test set size: (1039, 4)\n"
     ]
    }
   ],
   "source": [
    "print(f\"\\nFinal training set size: {train_df.shape}\")\n",
    "print(f\"Final test set size: {test_df.shape}\")"
   ],
   "metadata": {
    "collapsed": false,
    "ExecuteTime": {
     "end_time": "2025-06-19T18:10:34.490476500Z",
     "start_time": "2025-06-19T18:10:34.487451800Z"
    }
   },
   "id": "a77cc56f25c42279"
  },
  {
   "cell_type": "markdown",
   "source": [
    "# Output preproceessed data to files"
   ],
   "metadata": {
    "collapsed": false
   },
   "id": "de1df3fa43c1d22"
  },
  {
   "cell_type": "code",
   "execution_count": 130,
   "outputs": [
    {
     "name": "stdout",
     "output_type": "stream",
     "text": [
      "\n",
      "Saving data as pickle files...\n",
      "Training set with 4152 rows saved to ../data/processed/train.pkl\n",
      "Test set with 1039 rows saved to ../data/processed/test.pkl\n",
      "\n",
      "All files saved successfully.\n"
     ]
    }
   ],
   "source": [
    "print(\"\\nSaving data as pickle files...\")\n",
    "\n",
    "# Define the new file paths with the .pkl extension\n",
    "train_path = '../data/processed/train.pkl'\n",
    "test_path = '../data/processed/test.pkl'\n",
    "\n",
    "# Save the training set using .to_pickle()\n",
    "train_df.to_pickle(train_path)\n",
    "print(f\"Training set with {len(train_df)} rows saved to {train_path}\")\n",
    "\n",
    "# Save the test set\n",
    "test_df.to_pickle(test_path)\n",
    "print(f\"Test set with {len(test_df)} rows saved to {test_path}\")\n",
    "\n",
    "print(\"\\nAll files saved successfully.\")"
   ],
   "metadata": {
    "collapsed": false,
    "ExecuteTime": {
     "end_time": "2025-06-19T18:10:35.675209100Z",
     "start_time": "2025-06-19T18:10:34.492481800Z"
    }
   },
   "id": "69cfe2ba8da93d40"
  }
 ],
 "metadata": {
  "kernelspec": {
   "display_name": "Python 3",
   "language": "python",
   "name": "python3"
  },
  "language_info": {
   "codemirror_mode": {
    "name": "ipython",
    "version": 2
   },
   "file_extension": ".py",
   "mimetype": "text/x-python",
   "name": "python",
   "nbconvert_exporter": "python",
   "pygments_lexer": "ipython2",
   "version": "2.7.6"
  }
 },
 "nbformat": 4,
 "nbformat_minor": 5
}
